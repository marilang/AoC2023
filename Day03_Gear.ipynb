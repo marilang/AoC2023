{
 "cells": [
  {
   "cell_type": "markdown",
   "id": "bf816ea0-735c-48f2-80fb-415168be0024",
   "metadata": {},
   "source": [
    "# Day 3: Gear Ratios\n",
    "https://adventofcode.com/2023/day/3\n",
    "## Part 1\n",
    "The elf and I have arrived at the gondola station, but the gondolas are not working because a part is missing.\n",
    "\n",
    "To solve this puzzle, the \"part numbers\", which are the numbers adjacent to symbols in the \"schematic\", need to be summed. A symbol is anything other than a digit or a period. In the example below, all numbers except 114 and 58 are part numbers. The sum of all these part numbers is 4361."
   ]
  },
  {
   "cell_type": "raw",
   "id": "e2ef9eab-8126-41b8-b0a2-a2c6388140b3",
   "metadata": {},
   "source": [
    "467..114..\n",
    "...*......\n",
    "..35..633.\n",
    "......#...\n",
    "617*......\n",
    ".....+.58.\n",
    "..592.....\n",
    "......755.\n",
    "...$.*....\n",
    ".664.598.."
   ]
  },
  {
   "cell_type": "markdown",
   "id": "9bb95c29-3e09-4d81-bbde-2a66f0176904",
   "metadata": {},
   "source": [
    "Strategy: In each line, begin at the leftmost position, p, and read a character at a time in the current line, cl. If the character is a digit, note the position of the beginning digit, b. Continue reading until you reach a period, a symbol, or the end of the line. Note the position, ep1, one position after the ending digit. Determine whether there are symbols adjacent to the number: consider the positions to the left and right, and the positions in the line above, la, and the line below, lb, including adjacent corners. Be aware of the edges of the schematic. If a symbol is found, calculate the value of the entire decimal number and add it to a running total."
   ]
  },
  {
   "cell_type": "code",
   "execution_count": 1,
   "id": "364cea34-b6ef-4058-adcb-9ae3f53f80a6",
   "metadata": {},
   "outputs": [
    {
     "data": {
      "text/plain": [
       "'..35..633.'"
      ]
     },
     "execution_count": 1,
     "metadata": {},
     "output_type": "execute_result"
    }
   ],
   "source": [
    "sample_input = '467..114..\\n...*......\\n..35..633.\\n......#...\\n617*......\\n.....+.58.\\n..592.....\\n......755.\\n...$.*....\\n.664.598..'\n",
    "schematic = sample_input.split('\\n')\n",
    "\n",
    "cl = 2\n",
    "schematic[cl]"
   ]
  },
  {
   "cell_type": "code",
   "execution_count": 2,
   "id": "b3468cba-3b23-4723-9374-749dcf7f1e33",
   "metadata": {},
   "outputs": [
    {
     "data": {
      "text/plain": [
       "2"
      ]
     },
     "execution_count": 2,
     "metadata": {},
     "output_type": "execute_result"
    }
   ],
   "source": [
    "def find_first_digit(s):\n",
    "    p = 0\n",
    "    while p < len(s):\n",
    "        if s[p].isnumeric():\n",
    "            return p\n",
    "        p = p + 1\n",
    "    return p\n",
    "\n",
    "find_first_digit('..345..')"
   ]
  },
  {
   "cell_type": "code",
   "execution_count": 3,
   "id": "346bdba1-bca0-45c6-9cbb-dd3899ddab02",
   "metadata": {},
   "outputs": [
    {
     "data": {
      "text/plain": [
       "3"
      ]
     },
     "execution_count": 3,
     "metadata": {},
     "output_type": "execute_result"
    }
   ],
   "source": [
    "def find_first_nondigit(s):\n",
    "    p = 0\n",
    "    while p < len(s):\n",
    "        if not s[p].isnumeric():\n",
    "            return p\n",
    "        p = p + 1\n",
    "    return p\n",
    "\n",
    "find_first_nondigit('587*..')"
   ]
  },
  {
   "cell_type": "markdown",
   "id": "6938a9ee-0e19-4eca-accf-8f09220db87a",
   "metadata": {},
   "source": [
    "Find the first number in a line"
   ]
  },
  {
   "cell_type": "code",
   "execution_count": 4,
   "id": "0e7f7a18-62c0-475c-83aa-a46156967ecb",
   "metadata": {},
   "outputs": [
    {
     "data": {
      "text/plain": [
       "[0, 3, '467']"
      ]
     },
     "execution_count": 4,
     "metadata": {},
     "output_type": "execute_result"
    }
   ],
   "source": [
    "s = schematic[0]\n",
    "b = find_first_digit(s)\n",
    "e = find_first_nondigit(s[b:])\n",
    "\n",
    "[b, e, s[b:b+e]]"
   ]
  },
  {
   "cell_type": "markdown",
   "id": "e92379b5-a1be-411f-b161-c08d85c28886",
   "metadata": {},
   "source": [
    "Find the first number in the remaining substring"
   ]
  },
  {
   "cell_type": "code",
   "execution_count": 5,
   "id": "c3cc37bb-ca9a-4faa-93e2-17a47a8b6666",
   "metadata": {},
   "outputs": [
    {
     "data": {
      "text/plain": [
       "[2, 3, '114']"
      ]
     },
     "execution_count": 5,
     "metadata": {},
     "output_type": "execute_result"
    }
   ],
   "source": [
    "s = s[b+e:]\n",
    "b = find_first_digit(s)\n",
    "e = find_first_nondigit(s[b:])\n",
    "\n",
    "[b, e, s[b:b+e]]"
   ]
  },
  {
   "cell_type": "markdown",
   "id": "adc15bce-ea39-4464-b28f-569ae094b76b",
   "metadata": {},
   "source": [
    "Identify symbols"
   ]
  },
  {
   "cell_type": "code",
   "execution_count": 6,
   "id": "c7b043ea-e916-4f09-8db3-7ac345415717",
   "metadata": {},
   "outputs": [
    {
     "data": {
      "text/plain": [
       "True"
      ]
     },
     "execution_count": 6,
     "metadata": {},
     "output_type": "execute_result"
    }
   ],
   "source": [
    "def contains_symbol(s):\n",
    "    for p in range(len(s)):\n",
    "        if not s[p].isnumeric():\n",
    "            if not s[p] == '.':\n",
    "                return True\n",
    "    return False\n",
    "\n",
    "contains_symbol('..234..&')"
   ]
  },
  {
   "cell_type": "markdown",
   "id": "090c75b7-d70c-4341-916a-21aaf0677a87",
   "metadata": {},
   "source": [
    "Get the characters above or below a number, extending to the left and right by one position, unless you're at the edge."
   ]
  },
  {
   "cell_type": "code",
   "execution_count": 7,
   "id": "c9f0639c-497d-4358-84eb-32371530542d",
   "metadata": {},
   "outputs": [
    {
     "data": {
      "text/plain": [
       "'...$.'"
      ]
     },
     "execution_count": 7,
     "metadata": {},
     "output_type": "execute_result"
    }
   ],
   "source": [
    "def get_la(schematic, cl, b, ep1):\n",
    "    if cl <= 0:\n",
    "        return ''\n",
    "    else:\n",
    "        if b > 0: \n",
    "            b = b-1\n",
    "        if ep1 < len(schematic[cl]):\n",
    "            ep1 = ep1 + 1\n",
    "        return schematic[cl-1][b:ep1]\n",
    "\n",
    "get_la(sample_input.split('\\n'), 9, 1, 4)"
   ]
  },
  {
   "cell_type": "code",
   "execution_count": 8,
   "id": "d280b8d8-94cc-4d12-b410-68803ef9d678",
   "metadata": {},
   "outputs": [
    {
     "data": {
      "text/plain": [
       "'...*'"
      ]
     },
     "execution_count": 8,
     "metadata": {},
     "output_type": "execute_result"
    }
   ],
   "source": [
    "def get_lb(schematic, cl, b, ep1):\n",
    "    if cl+1 >= len(schematic):\n",
    "        return ''\n",
    "    else:\n",
    "        if b > 0: \n",
    "            b = b-1\n",
    "        if ep1 < len(schematic[cl]):\n",
    "            ep1 = ep1 + 1\n",
    "        return schematic[cl+1][b:ep1]\n",
    "\n",
    "get_lb(sample_input.split('\\n'), 0,0,3)"
   ]
  },
  {
   "cell_type": "markdown",
   "id": "ed25be7c-e646-4e10-b892-d938c45e83d1",
   "metadata": {},
   "source": [
    "Identify all the numbers with their locations and whether there's an adjacent symbol. Keep a running sum of the part numbers."
   ]
  },
  {
   "cell_type": "code",
   "execution_count": 9,
   "id": "168151e3-854a-4b41-a3fe-428dd6293b63",
   "metadata": {},
   "outputs": [
    {
     "name": "stdout",
     "output_type": "stream",
     "text": [
      "[0][0:3] 467  True\n",
      "[0][5:8] 114  False\n",
      "[2][2:4] 35  True\n",
      "[2][6:9] 633  True\n",
      "[4][0:3] 617  True\n",
      "[5][7:9] 58  False\n",
      "[6][2:5] 592  True\n",
      "[7][6:9] 755  True\n",
      "[9][1:4] 664  True\n",
      "[9][5:8] 598  True\n"
     ]
    },
    {
     "data": {
      "text/plain": [
       "4361"
      ]
     },
     "execution_count": 9,
     "metadata": {},
     "output_type": "execute_result"
    }
   ],
   "source": [
    "def solve_part1(schematic, verbose=False):\n",
    "    sum=0\n",
    "    for cl in range(len(schematic)):\n",
    "        s = schematic[cl]\n",
    "        p = 0\n",
    "        b = 0\n",
    "        e = 0\n",
    "        while p < len(s):\n",
    "            b = find_first_digit(s[p:])        \n",
    "            if b < len(s[p:]):\n",
    "                e = find_first_nondigit(s[p+b:])\n",
    "                n = int(s[p+b:p+b+e])\n",
    "                pn = False\n",
    "                if p+b > 0:\n",
    "                    pn = (contains_symbol(s[p+b-1]))\n",
    "                if p+b+e < len(s):\n",
    "                    pn = (pn or contains_symbol(s[p+b+e]))\n",
    "                pn = (pn or contains_symbol(get_la(schematic, cl, p+b, p+b+e)))\n",
    "                pn = (pn or contains_symbol(get_lb(schematic, cl, p+b, p+b+e)))\n",
    "                if pn:\n",
    "                    sum = sum + n\n",
    "                if verbose: print(f'[{cl}][{p+b}:{p+b+e}] {n}  {pn}')            \n",
    "            p = p+b+e\n",
    "            b = 0\n",
    "            e = 0\n",
    "    return sum\n",
    "    \n",
    "solve_part1(sample_input.split('\\n'), verbose=True)"
   ]
  },
  {
   "cell_type": "code",
   "execution_count": 10,
   "id": "c24ca8ed-bd5d-4979-b880-8c383b91ef90",
   "metadata": {},
   "outputs": [],
   "source": [
    "with open('data/day03_in.txt', 'r') as f:\n",
    "    puzzle_input = f.read()"
   ]
  },
  {
   "cell_type": "code",
   "execution_count": 11,
   "id": "b77897a4-774b-4994-8068-6b56274c6276",
   "metadata": {},
   "outputs": [
    {
     "data": {
      "text/plain": [
       "536576"
      ]
     },
     "execution_count": 11,
     "metadata": {},
     "output_type": "execute_result"
    }
   ],
   "source": [
    "solve_part1(puzzle_input.split('\\n'), verbose=False)"
   ]
  },
  {
   "cell_type": "markdown",
   "id": "a3dc6186-3bfc-4f7e-9ab8-60f41a244e5d",
   "metadata": {},
   "source": [
    "536576 is correct for my puzzle input."
   ]
  },
  {
   "cell_type": "markdown",
   "id": "49a55765-097f-4d25-970b-2a20dc44eea3",
   "metadata": {},
   "source": [
    "# Part 2\n",
    "\n",
    "Now identify gears: * symbols that are adjacent to exactly two part numbers. The gear ratio of the gear is the product of those numbers. Add the sum of all gear ratios.\n",
    "\n",
    "For the sample input, the solution is 467 * 35 + 755 * 598 = 467835"
   ]
  },
  {
   "cell_type": "raw",
   "id": "674684ec-687d-4490-a175-de87c49fec73",
   "metadata": {},
   "source": [
    "467..114..\n",
    "...*......\n",
    "..35..633.\n",
    "......#...\n",
    "617*......\n",
    ".....+.58.\n",
    "..592.....\n",
    "......755.\n",
    "...$.*....\n",
    ".664.598.."
   ]
  },
  {
   "cell_type": "markdown",
   "id": "04ddd0fc-ffdc-4c54-a22f-6f0c83a57966",
   "metadata": {},
   "source": [
    "Strategy: first, find a * symbol. Look for digits to the left and right, above and below, and in the corners, being aware of edges. Count the number of adjacent numbers, keeping in mind that consecutive digits in upper and lower rows are part of the same number. If there are two adjacent numbers, extend left and right to get both entire numbers. Multiply them together and keep a running total.\n",
    "\n",
    "Or, we could build a dictionary of part numbers that are adjacent to * symbols by slightly modifying the part 1 code."
   ]
  },
  {
   "cell_type": "code",
   "execution_count": 12,
   "id": "f04c9439-f512-4fa7-a535-a6954a921469",
   "metadata": {},
   "outputs": [
    {
     "data": {
      "text/plain": [
       "True"
      ]
     },
     "execution_count": 12,
     "metadata": {},
     "output_type": "execute_result"
    }
   ],
   "source": [
    "def contains_gear_symbol(s):\n",
    "    for p in range(len(s)):\n",
    "        if not s[p].isnumeric():\n",
    "            if s[p] == '*':\n",
    "                return True\n",
    "    return False\n",
    "\n",
    "contains_gear_symbol('.*234..&')"
   ]
  },
  {
   "cell_type": "code",
   "execution_count": 38,
   "id": "e73bd1bf-391c-4700-ba1a-431815bc32c6",
   "metadata": {},
   "outputs": [
    {
     "data": {
      "text/plain": [
       "{0: [[0, 3, 467]],\n",
       " 1: [],\n",
       " 2: [[2, 4, 35]],\n",
       " 3: [],\n",
       " 4: [[0, 3, 617]],\n",
       " 5: [],\n",
       " 6: [],\n",
       " 7: [[6, 9, 755]],\n",
       " 8: [],\n",
       " 9: [[5, 8, 598]]}"
      ]
     },
     "execution_count": 38,
     "metadata": {},
     "output_type": "execute_result"
    }
   ],
   "source": [
    "def find_numbers(schematic):\n",
    "    '''Returns a dictionary indexed by row number, where each entry is a list of lists describing any numbers in that row that are adjacent to stars.\n",
    "    Each of the inner lists contains the position of the first digit, the next position after the last digit, and the value of the number.\n",
    "    '''\n",
    "    numbers = {}\n",
    "    for cl in range(len(schematic)):\n",
    "        s = schematic[cl]\n",
    "        numbers[cl] = []\n",
    "        p = 0\n",
    "        b = 0\n",
    "        e = 0\n",
    "        while p < len(s):\n",
    "            b = find_first_digit(s[p:])        \n",
    "            if b < len(s[p:]):\n",
    "                e = find_first_nondigit(s[p+b:])\n",
    "                n = int(s[p+b:p+b+e])\n",
    "                pn = False\n",
    "                if p+b > 0:\n",
    "                    pn = (contains_gear_symbol(s[p+b-1]))\n",
    "                if p+b+e < len(s):\n",
    "                    pn = (pn or contains_gear_symbol(s[p+b+e]))\n",
    "                pn = (pn or contains_gear_symbol(get_la(schematic, cl, p+b, p+b+e)))\n",
    "                pn = (pn or contains_gear_symbol(get_lb(schematic, cl, p+b, p+b+e)))\n",
    "                if pn:\n",
    "                    numbers[cl].append([p+b, p+b+e, n])\n",
    "            p = p+b+e\n",
    "            b = 0\n",
    "            e = 0\n",
    "    return numbers\n",
    "\n",
    "find_numbers(sample_input.split('\\n'))"
   ]
  },
  {
   "cell_type": "code",
   "execution_count": 39,
   "id": "05cd0d31-1ae2-4de3-990c-d3988c9822d0",
   "metadata": {},
   "outputs": [
    {
     "data": {
      "text/plain": [
       "[3]"
      ]
     },
     "execution_count": 39,
     "metadata": {},
     "output_type": "execute_result"
    }
   ],
   "source": [
    "def find_stars(row):\n",
    "    found = []\n",
    "    start = 0\n",
    "    while start < len(row):\n",
    "        look = row.find('*', start)\n",
    "        if look >=0:\n",
    "            found.append(look)\n",
    "            start = look+1\n",
    "        else:\n",
    "            start = len(row)\n",
    "    return(found)\n",
    "        \n",
    "find_stars(sample_input.split()[1])"
   ]
  },
  {
   "cell_type": "markdown",
   "id": "f86f62d5-78fa-49f3-929a-7445c14c2517",
   "metadata": {},
   "source": [
    "So for each row of the schematic, find all the stars. Get star-adjacent part numbers in the current row plus the row above and the row below. Identify how many part numbers are adjacent to each particular star. If there are exactly two numbers, multiply them and add them to the running total."
   ]
  },
  {
   "cell_type": "code",
   "execution_count": 46,
   "id": "0e5704be-c74b-49b3-a9a0-37a4f4e48fc7",
   "metadata": {},
   "outputs": [
    {
     "data": {
      "text/plain": [
       "False"
      ]
     },
     "execution_count": 46,
     "metadata": {},
     "output_type": "execute_result"
    }
   ],
   "source": [
    "def touching(number, star):\n",
    "    first = number[0]\n",
    "    last = number[1]\n",
    "    touching = first <= star+1 and last >= star\n",
    "    return touching\n",
    "    \n",
    "touching([4, 6, 99], 7)  # the number 99 is in positions 4 and 5"
   ]
  },
  {
   "cell_type": "code",
   "execution_count": 48,
   "id": "1f8b3eb1-3c68-4690-b6df-bd5ff0b6a1c3",
   "metadata": {},
   "outputs": [
    {
     "data": {
      "text/plain": [
       "[[7, 9, 36]]"
      ]
     },
     "execution_count": 48,
     "metadata": {},
     "output_type": "execute_result"
    }
   ],
   "source": [
    "def adjacent_only(numbers, star):\n",
    "    adjacent = []\n",
    "    for number in numbers:\n",
    "        if touching(number, star):\n",
    "            adjacent.append(number)\n",
    "    return adjacent\n",
    "\n",
    "adjacent_only([[1,3,99], [7,9,36]], 6)"
   ]
  },
  {
   "cell_type": "code",
   "execution_count": 67,
   "id": "613059ce-ac11-4d0d-b3fb-4a46bf9fb0e5",
   "metadata": {},
   "outputs": [
    {
     "name": "stdout",
     "output_type": "stream",
     "text": [
      "\n",
      "Star position in row 1: 3\n",
      "Adjacent numbers in this row: []\n",
      "Adjacent numbers in upper row: [[0, 3, 467]]\n",
      "Adjacent numbers in lower row: [[2, 4, 35]]\n",
      "Gear ratio: 16345\n",
      "\n",
      "Star position in row 4: 3\n",
      "Adjacent numbers in this row: [[0, 3, 617]]\n",
      "Adjacent numbers in upper row: []\n",
      "Adjacent numbers in lower row: []\n",
      "\n",
      "Star position in row 8: 5\n",
      "Adjacent numbers in this row: []\n",
      "Adjacent numbers in upper row: [[6, 9, 755]]\n",
      "Adjacent numbers in lower row: [[5, 8, 598]]\n",
      "Gear ratio: 451490\n"
     ]
    },
    {
     "data": {
      "text/plain": [
       "467835"
      ]
     },
     "execution_count": 67,
     "metadata": {},
     "output_type": "execute_result"
    }
   ],
   "source": [
    "def solve_part2(schematic, verbose=False):\n",
    "    sum=0\n",
    "    numbers = find_numbers(schematic)\n",
    "    row = 0\n",
    "    while row in range(len(schematic)):\n",
    "        stars = find_stars(schematic[row])\n",
    "        for star in stars:\n",
    "            adjacent = []\n",
    "            if verbose: print(f'\\nStar position in row {row}: {star}')\n",
    "            if verbose: print(f'Adjacent numbers in this row: {adjacent_only(numbers[row], star)}')\n",
    "            adjacent.extend(adjacent_only(numbers[row], star))\n",
    "                        \n",
    "            if row > 0:\n",
    "                if verbose: print(f'Adjacent numbers in upper row: {adjacent_only(numbers[row-1], star)}')\n",
    "                adjacent.extend(adjacent_only(numbers[row-1], star))\n",
    "                \n",
    "            if row < len(schematic) - 1:\n",
    "                if verbose: print(f'Adjacent numbers in lower row: {adjacent_only(numbers[row+1], star)}')\n",
    "                adjacent.extend(adjacent_only(numbers[row+1], star))\n",
    "\n",
    "            if len(adjacent) == 2:\n",
    "                gear_ratio = adjacent[0][2] * adjacent[1][2]\n",
    "                if verbose: print(f'Gear ratio: {gear_ratio}')\n",
    "                sum = sum + gear_ratio\n",
    "        row = row + 1\n",
    "    return sum\n",
    "\n",
    "solve_part2(sample_input.split('\\n'), verbose=True)"
   ]
  },
  {
   "cell_type": "code",
   "execution_count": 68,
   "id": "79f7bfc1-6b8b-4ffe-ba7e-768b924208e8",
   "metadata": {},
   "outputs": [
    {
     "data": {
      "text/plain": [
       "75741499"
      ]
     },
     "execution_count": 68,
     "metadata": {},
     "output_type": "execute_result"
    }
   ],
   "source": [
    "solve_part2(puzzle_input.split('\\n'), verbose=False)"
   ]
  },
  {
   "cell_type": "markdown",
   "id": "b287e31d-aa5f-434d-8859-7988dbae75e1",
   "metadata": {},
   "source": [
    "75741499 is correct. "
   ]
  },
  {
   "cell_type": "code",
   "execution_count": null,
   "id": "8553ea2e-a216-4bb8-9cff-df0bc54ef1d7",
   "metadata": {},
   "outputs": [],
   "source": []
  }
 ],
 "metadata": {
  "kernelspec": {
   "display_name": "Python 3 (ipykernel)",
   "language": "python",
   "name": "python3"
  },
  "language_info": {
   "codemirror_mode": {
    "name": "ipython",
    "version": 3
   },
   "file_extension": ".py",
   "mimetype": "text/x-python",
   "name": "python",
   "nbconvert_exporter": "python",
   "pygments_lexer": "ipython3",
   "version": "3.9.6"
  }
 },
 "nbformat": 4,
 "nbformat_minor": 5
}
