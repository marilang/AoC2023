{
 "cells": [
  {
   "cell_type": "markdown",
   "id": "777b0b5a-aeaa-4e5b-8816-03d061b05b59",
   "metadata": {},
   "source": [
    "# Day 5: If you give a seed a fertilizer\n",
    "\n",
    "I've reached the gardener, who tells me there's no water because there's no sand to filter it with. He directs me to the ferry, but there's also an urgent food production problem. Here's a sample of the almanac:"
   ]
  },
  {
   "cell_type": "code",
   "execution_count": 1,
   "id": "3885e7a4-94e8-4866-a904-5df928e52a4c",
   "metadata": {},
   "outputs": [],
   "source": [
    "sample_input = '''seeds: 79 14 55 13\n",
    "\n",
    "seed-to-soil map:\n",
    "50 98 2\n",
    "52 50 48\n",
    "\n",
    "soil-to-fertilizer map:\n",
    "0 15 37\n",
    "37 52 2\n",
    "39 0 15\n",
    "\n",
    "fertilizer-to-water map:\n",
    "49 53 8\n",
    "0 11 42\n",
    "42 0 7\n",
    "57 7 4\n",
    "\n",
    "water-to-light map:\n",
    "88 18 7\n",
    "18 25 70\n",
    "\n",
    "light-to-temperature map:\n",
    "45 77 23\n",
    "81 45 19\n",
    "68 64 13\n",
    "\n",
    "temperature-to-humidity map:\n",
    "0 69 1\n",
    "1 0 69\n",
    "\n",
    "humidity-to-location map:\n",
    "60 56 37\n",
    "56 93 4'''"
   ]
  },
  {
   "cell_type": "markdown",
   "id": "08d9d118-a4ce-400a-86e8-0dd9d4e3e129",
   "metadata": {},
   "source": [
    "Each line within a map contains three numbers: the destination range start, the source range start, and the range length. So seed numbers 50 and 51 correspond to soil numbers 98 and 99. Seeds 52 to 99 correspond to soil 50 to 97. Seeds that aren't mapped (0 to 49) correspond to the same soil number.\n",
    "\n",
    "Working through the example:\n",
    "-   Seed 79, soil 81, fertilizer 81, water 81, light 74, temperature 78, humidity 78, location 82.\n",
    "-   Seed 14, soil 14, fertilizer 53, water 49, light 42, temperature 42, humidity 43, location 43.\n",
    "-   Seed 55, soil 57, fertilizer 57, water 53, light 46, temperature 82, humidity 82, location 86.\n",
    "-   Seed 13, soil 13, fertilizer 52, water 41, light 34, temperature 34, humidity 35, location 35.\n",
    "\n",
    "## Part 1\n",
    "\n",
    "The gardener wants to start with the closest seed location, which in this case would be 35. Naturally, the puzzle input is more complicated. What is the closest seed location in the puzzle input?"
   ]
  },
  {
   "cell_type": "code",
   "execution_count": 2,
   "id": "55db6f05-b784-4b81-9f45-08c29957cb8d",
   "metadata": {},
   "outputs": [
    {
     "data": {
      "text/plain": [
       "{'seed_types': ['79', '14', '55', '13'],\n",
       " 'seed_soil': ['50 98 2', '52 50 48'],\n",
       " 'soil_fertilizer': ['0 15 37', '37 52 2', '39 0 15'],\n",
       " 'fertilizer_water': ['49 53 8', '0 11 42', '42 0 7', '57 7 4'],\n",
       " 'water_light': ['88 18 7', '18 25 70'],\n",
       " 'light_temperature': ['45 77 23', '81 45 19', '68 64 13'],\n",
       " 'temperature_humidity': ['0 69 1', '1 0 69'],\n",
       " 'humidity_location': ['60 56 37', '56 93 4']}"
      ]
     },
     "execution_count": 2,
     "metadata": {},
     "output_type": "execute_result"
    }
   ],
   "source": [
    "def build_almanac(a_str):\n",
    "    almanac = {}\n",
    "    almanac['seed_types'] = a_str[a_str.find('seeds:')+6:a_str.find('seed-to-soil map:')].strip().split()\n",
    "    almanac['seed_soil'] = a_str[a_str.find('seed-to-soil map:')+17:a_str.find('soil-to-fertilizer map:')].strip().split('\\n')\n",
    "    almanac['soil_fertilizer'] = a_str[a_str.find('soil-to-fertilizer map:')+23:a_str.find('fertilizer-to-water map:')].strip().split('\\n')\n",
    "    almanac['fertilizer_water'] = a_str[a_str.find('fertilizer-to-water map:')+24:a_str.find('water-to-light map:')].strip().split('\\n')\n",
    "    almanac['water_light'] = a_str[a_str.find('water-to-light map:')+19:a_str.find('light-to-temperature map:')].strip().split('\\n')\n",
    "    almanac['light_temperature'] = a_str[a_str.find('light-to-temperature map:')+25:a_str.find('temperature-to-humidity map:')].strip().split('\\n')\n",
    "    almanac['temperature_humidity'] = a_str[a_str.find('temperature-to-humidity map:')+28:a_str.find('humidity-to-location map:')].strip().split('\\n')\n",
    "    almanac['humidity_location'] = a_str[a_str.find('humidity-to-location map:')+25:].strip().split('\\n')\n",
    "    return almanac\n",
    "\n",
    "almanac = build_almanac(sample_input)\n",
    "almanac"
   ]
  },
  {
   "cell_type": "code",
   "execution_count": 3,
   "id": "e937d765-bc53-480a-ba06-bb41e0f7a391",
   "metadata": {},
   "outputs": [
    {
     "data": {
      "text/plain": [
       "81"
      ]
     },
     "execution_count": 3,
     "metadata": {},
     "output_type": "execute_result"
    }
   ],
   "source": [
    "def get_destination(source_item, map):\n",
    "    for range in map:\n",
    "        dst_start = int(range.split()[0])\n",
    "        src_start = int(range.split()[1])\n",
    "        length = int(range.split()[2])\n",
    "        if (source_item >= src_start) and (source_item <= src_start + length-1):\n",
    "            return dst_start + source_item - src_start\n",
    "    return source_item\n",
    "\n",
    "\n",
    "get_destination(79, almanac['seed_soil'])"
   ]
  },
  {
   "cell_type": "code",
   "execution_count": 4,
   "id": "8b7e398a-d412-4b73-ab89-459498d37691",
   "metadata": {},
   "outputs": [
    {
     "data": {
      "text/plain": [
       "35"
      ]
     },
     "execution_count": 4,
     "metadata": {},
     "output_type": "execute_result"
    }
   ],
   "source": [
    "def trace_seed_location(seed_number, almanac):\n",
    "    soil = get_destination(seed_number, almanac['seed_soil'])\n",
    "    fertilizer = get_destination(soil, almanac['soil_fertilizer'])\n",
    "    water = get_destination(fertilizer, almanac['fertilizer_water'])\n",
    "    light = get_destination(water, almanac['water_light'])\n",
    "    temperature = get_destination(light, almanac['light_temperature'])\n",
    "    humidity = get_destination(temperature, almanac['temperature_humidity'])\n",
    "    location = get_destination(humidity, almanac['humidity_location'])\n",
    "    #print(f'Seed {seed_number}, soil {soil}, fertilizer {fertilizer}, water {water}, light {light},',\n",
    "    #      f'temperature {temperature}, humidity {humidity}, location {location}.')\n",
    "    return location\n",
    "\n",
    "\n",
    "trace_seed_location(13, almanac)"
   ]
  },
  {
   "cell_type": "code",
   "execution_count": 5,
   "id": "fd77df89-0079-46f8-9b53-a7a5e87fd18c",
   "metadata": {},
   "outputs": [
    {
     "data": {
      "text/plain": [
       "35"
      ]
     },
     "execution_count": 5,
     "metadata": {},
     "output_type": "execute_result"
    }
   ],
   "source": [
    "def find_closest_location(almanac):\n",
    "    seed_types = almanac['seed_types']\n",
    "    minimum_distance = 1e99\n",
    "    for seed in seed_types:\n",
    "        seed_number = int(seed)\n",
    "        location = trace_seed_location(seed_number, almanac)\n",
    "        minimum_distance = min(minimum_distance, location)\n",
    "    return minimum_distance\n",
    "\n",
    "\n",
    "find_closest_location(almanac)"
   ]
  },
  {
   "cell_type": "code",
   "execution_count": 6,
   "id": "a16fb540-c2e3-4662-948b-1fc939314570",
   "metadata": {},
   "outputs": [],
   "source": [
    "with open('data/day05_in.txt', 'r') as f:\n",
    "    puzzle_input = f.read()"
   ]
  },
  {
   "cell_type": "code",
   "execution_count": 7,
   "id": "caa4c1f1-edf6-4858-8d95-95632dbc2b9c",
   "metadata": {},
   "outputs": [
    {
     "data": {
      "text/plain": [
       "289863851"
      ]
     },
     "execution_count": 7,
     "metadata": {},
     "output_type": "execute_result"
    }
   ],
   "source": [
    "almanac = build_almanac(puzzle_input)\n",
    "find_closest_location(almanac)"
   ]
  },
  {
   "cell_type": "markdown",
   "id": "6e627524-fc23-4793-a05c-80e37c2138ee",
   "metadata": {},
   "source": [
    "289863851 is correct for my puzzle input."
   ]
  },
  {
   "cell_type": "markdown",
   "id": "c00cd03f-1858-46da-838b-b68e051f7f82",
   "metadata": {},
   "source": [
    "# Part 2\n",
    "\n",
    "Oops, the seeds line actually describes ranges of seed numbers. Each pair of numbers includes the start and length of a range.\n",
    "We're still looking for the lowest location number, but considering a lot more seed numbers. For the example almanac, this value is 46."
   ]
  },
  {
   "cell_type": "code",
   "execution_count": 8,
   "id": "63627b94-1b6a-4f6b-ad7a-c4baecb482f3",
   "metadata": {},
   "outputs": [
    {
     "name": "stdout",
     "output_type": "stream",
     "text": [
      "79..92\n",
      "55..67\n"
     ]
    }
   ],
   "source": [
    "almanac = build_almanac(sample_input)\n",
    "seeds = almanac['seed_types']\n",
    "\n",
    "while len(seeds) > 0:\n",
    "    start = int(seeds.pop(0))\n",
    "    length = int(seeds.pop(0))\n",
    "    print(f'{start}..{start + length-1}')"
   ]
  },
  {
   "cell_type": "code",
   "execution_count": 9,
   "id": "04a72215-98ac-42c8-a912-e5e23c89c294",
   "metadata": {},
   "outputs": [],
   "source": [
    "def find_closest_location(almanac):\n",
    "    seeds = almanac['seed_types']\n",
    "    minimum_distance = 1e99\n",
    "    while len(seeds) > 0:\n",
    "        start = int(seeds.pop(0))\n",
    "        length = int(seeds.pop(0))\n",
    "        for seed in range(start, start+length):\n",
    "            seed_number = int(seed)\n",
    "            location = trace_seed_location(seed_number, almanac)\n",
    "            minimum_distance = min(minimum_distance, location)\n",
    "    return minimum_distance\n"
   ]
  },
  {
   "cell_type": "code",
   "execution_count": 10,
   "id": "276ed173-9d5a-47b4-8771-91a4911243ad",
   "metadata": {},
   "outputs": [
    {
     "data": {
      "text/plain": [
       "46"
      ]
     },
     "execution_count": 10,
     "metadata": {},
     "output_type": "execute_result"
    }
   ],
   "source": [
    "find_closest_location(build_almanac(sample_input))"
   ]
  },
  {
   "cell_type": "raw",
   "id": "67b41f77-05e7-408c-805e-86a5353a7eab",
   "metadata": {},
   "source": [
    "#find_closest_location(build_almanac(puzzle_input))"
   ]
  },
  {
   "attachments": {},
   "cell_type": "markdown",
   "id": "5c7e529b-14e7-49ba-8981-5c953e1299d8",
   "metadata": {},
   "source": [
    "That doesn't work! We need another approach for these ranges whose lengths are in the trillions. \n",
    "\n",
    "First, let's tidy up our virtual almanac."
   ]
  },
  {
   "cell_type": "code",
   "execution_count": 11,
   "id": "48111de3-1e42-4542-b2ba-224977a133c5",
   "metadata": {},
   "outputs": [
    {
     "data": {
      "text/plain": [
       "[79, 14, 55, 13]"
      ]
     },
     "execution_count": 11,
     "metadata": {},
     "output_type": "execute_result"
    }
   ],
   "source": [
    "def format_seeds(seeds):\n",
    "    '''Convert the seed list from a list of strings into a list of integers'''\n",
    "    new_seeds = []\n",
    "    while len(seeds) > 0:\n",
    "        new_seeds.append(int(seeds.pop(0)))\n",
    "    return new_seeds\n",
    "\n",
    "group_seeds(['79', '14', '55', '13'])"
   ]
  },
  {
   "cell_type": "code",
   "execution_count": 12,
   "id": "6fb2bf74-38ae-4649-8c82-4ce6e72fe5b4",
   "metadata": {},
   "outputs": [
    {
     "data": {
      "text/plain": [
       "[[50, 98, 2], [52, 50, 48]]"
      ]
     },
     "execution_count": 12,
     "metadata": {},
     "output_type": "execute_result"
    }
   ],
   "source": [
    "def format_ranges(map):\n",
    "    '''Convert each range in a map from a string to a list of integers.'''\n",
    "    new_map = []\n",
    "    while len(map) > 0:\n",
    "        new_range = []\n",
    "        range = map.pop(0).split()\n",
    "        while len(range) > 0:\n",
    "            new_range.append(int(range.pop(0)))\n",
    "        new_map.append(new_range)\n",
    "    return new_map\n",
    "\n",
    "format_ranges(['50 98 2', '52 50 48'])"
   ]
  },
  {
   "cell_type": "code",
   "execution_count": 13,
   "id": "41682075-46d8-4297-8921-70ce54aa0504",
   "metadata": {},
   "outputs": [
    {
     "data": {
      "text/plain": [
       "{'seeds': [79, 14, 55, 13],\n",
       " 'seed_soil': [[50, 98, 2], [52, 50, 48]],\n",
       " 'soil_fertilizer': [[0, 15, 37], [37, 52, 2], [39, 0, 15]],\n",
       " 'fertilizer_water': [[49, 53, 8], [0, 11, 42], [42, 0, 7], [57, 7, 4]],\n",
       " 'water_light': [[88, 18, 7], [18, 25, 70]],\n",
       " 'light_temperature': [[45, 77, 23], [81, 45, 19], [68, 64, 13]],\n",
       " 'temperature_humidity': [[0, 69, 1], [1, 0, 69]],\n",
       " 'humidity_location': [[60, 56, 37], [56, 93, 4]]}"
      ]
     },
     "execution_count": 13,
     "metadata": {},
     "output_type": "execute_result"
    }
   ],
   "source": [
    "def build_almanac(a_str):\n",
    "    '''Parse the input into a dictionary of maps.'''\n",
    "    almanac = {}\n",
    "    almanac['seeds'] = format_seeds(a_str[a_str.find('seeds:')+6:a_str.find('seed-to-soil map:')].strip().split())\n",
    "    almanac['seed_soil'] = format_ranges(a_str[a_str.find('seed-to-soil map:')+17:\n",
    "                                         a_str.find('soil-to-fertilizer map:')].strip().split('\\n'))\n",
    "    almanac['soil_fertilizer'] = format_ranges(a_str[a_str.find('soil-to-fertilizer map:')+23:\n",
    "                                               a_str.find('fertilizer-to-water map:')].strip().split('\\n'))\n",
    "    almanac['fertilizer_water'] = format_ranges(a_str[a_str.find('fertilizer-to-water map:')+24:\n",
    "                                                a_str.find('water-to-light map:')].strip().split('\\n'))\n",
    "    almanac['water_light'] = format_ranges(a_str[a_str.find('water-to-light map:')+19:\n",
    "                                           a_str.find('light-to-temperature map:')].strip().split('\\n'))\n",
    "    almanac['light_temperature'] = format_ranges(a_str[a_str.find('light-to-temperature map:')+25:\n",
    "                                                 a_str.find('temperature-to-humidity map:')].strip().split('\\n'))\n",
    "    almanac['temperature_humidity'] = format_ranges(a_str[a_str.find('temperature-to-humidity map:')+28:\n",
    "                                                    a_str.find('humidity-to-location map:')].strip().split('\\n'))\n",
    "    almanac['humidity_location'] = format_ranges(a_str[a_str.find('humidity-to-location map:')+25:].strip().split('\\n'))\n",
    "    return almanac\n",
    "\n",
    "almanac = build_almanac(sample_input)\n",
    "almanac"
   ]
  },
  {
   "cell_type": "code",
   "execution_count": 14,
   "id": "8c3c127f-8817-4656-9edf-279f66ebb10e",
   "metadata": {},
   "outputs": [
    {
     "data": {
      "text/plain": [
       "([50, 3], [1, 9, 13, 8])"
      ]
     },
     "execution_count": 14,
     "metadata": {},
     "output_type": "execute_result"
    }
   ],
   "source": [
    "def transform_single(source, map):\n",
    "    '''Use a single map range to transform a single source range to one or more destination ranges'''\n",
    "    source_start = source[0]\n",
    "    source_length = source[1]\n",
    "    map_dst_start = map[0]\n",
    "    map_src_start = map[1]\n",
    "    map_length = map[2]\n",
    "    dest = []\n",
    "    unchanged = []\n",
    "\n",
    "    if source_start < map_src_start: \n",
    "        # source begins before the map\n",
    "        if source_start + source_length <= map_src_start: \n",
    "            # source is completely before the map\n",
    "            unchanged.extend(source)\n",
    "        else:\n",
    "            # source is partially before the map\n",
    "            unchanged.extend([source_start, map_src_start - source_start])\n",
    "            if source_start + source_length <= map_src_start + map_length:\n",
    "                # remainder of source is within the map, apply offset\n",
    "                dest.extend([map_dst_start, source_start + source_length - map_src_start])\n",
    "            else: # source extends beyond the map, apply offset to the portion within the map\n",
    "                dest.extend([map_dst_start, map_length])\n",
    "                unchanged.extend([map_src_start + map_length, source_start + source_length - (map_src_start + map_length)])\n",
    "\n",
    "    elif source_start < map_src_start + map_length:\n",
    "        # source begins within the map\n",
    "        if source_start + source_length <= map_src_start + map_length:\n",
    "            # source is completely within the map, apply offset.\n",
    "            dest.extend([source_start + (map_dst_start - map_src_start), source_length])\n",
    "        else: # source extends beyond the map, apply offset to the portion within the map\n",
    "            dest.extend([source_start + (map_dst_start - map_src_start), map_src_start + map_length - source_start])\n",
    "            unchanged.extend([map_src_start + map_length, source_start + source_length - (map_src_start + map_length)])\n",
    "\n",
    "    else: # source is completely beyond the map\n",
    "        unchanged.extend(source)\n",
    "        \n",
    "    return dest, unchanged\n",
    "        \n",
    "\n",
    "transform_single([1,20], [50, 10, 3]) # transform 10-12 to 50-52"
   ]
  },
  {
   "cell_type": "code",
   "execution_count": 27,
   "id": "477b12d1-d69c-4a28-922d-8103a51e2221",
   "metadata": {},
   "outputs": [
    {
     "data": {
      "text/plain": [
       "[57, 5]"
      ]
     },
     "execution_count": 27,
     "metadata": {},
     "output_type": "execute_result"
    }
   ],
   "source": [
    "def transform_multimap(source, multimap):\n",
    "    '''Loop a single source range through a multi-range map '''\n",
    "    dest = []\n",
    "    ranges = source\n",
    "    for map in multimap:\n",
    "        next = []\n",
    "        while len(ranges) > 0:\n",
    "            if type(ranges[0]) == list:\n",
    "                range = ranges.pop(0)\n",
    "            else:\n",
    "                range = [ranges.pop(0), ranges.pop(0)]\n",
    "            changed, unchanged = transform_single(range, map)\n",
    "            dest.extend(changed)\n",
    "            next.extend(unchanged)\n",
    "        ranges = next\n",
    "    dest.extend(next)\n",
    "    return dest\n",
    "\n",
    "transform_multimap([55,5], [[50, 10, 3], [52, 50, 48]])\n"
   ]
  },
  {
   "cell_type": "code",
   "execution_count": 28,
   "id": "9eaee2ef-9e25-48e3-9f20-6fe429c4bb2e",
   "metadata": {},
   "outputs": [
    {
     "data": {
      "text/plain": [
       "[1626068843, 14, 1626068819, 13]"
      ]
     },
     "execution_count": 28,
     "metadata": {},
     "output_type": "execute_result"
    }
   ],
   "source": [
    "def transform_multirange(multisource, multimap):\n",
    "    dest = []\n",
    "    while len(multisource) > 0:\n",
    "        if type(multisource[0]) == list:\n",
    "            source = multisource[0]\n",
    "        else:\n",
    "            source = [multisource.pop(0), multisource.pop(0)]\n",
    "        dest.extend(transform_multimap(source, multimap))\n",
    "    return dest\n",
    "\n",
    "transform_multirange([79, 14, 55, 13], almanac['seed_soil'])"
   ]
  },
  {
   "cell_type": "code",
   "execution_count": 29,
   "id": "fda04128-280d-47c9-94d0-139d044464e4",
   "metadata": {},
   "outputs": [
    {
     "data": {
      "text/plain": [
       "[360004398, 14, 360004374, 13]"
      ]
     },
     "execution_count": 29,
     "metadata": {},
     "output_type": "execute_result"
    }
   ],
   "source": [
    "transform_multirange([81, 14, 57, 13], almanac['soil_fertilizer'])"
   ]
  },
  {
   "cell_type": "code",
   "execution_count": 30,
   "id": "a2b41f73-e3d1-403a-926d-8ad13bf6cc90",
   "metadata": {},
   "outputs": [
    {
     "data": {
      "text/plain": [
       "46"
      ]
     },
     "execution_count": 30,
     "metadata": {},
     "output_type": "execute_result"
    }
   ],
   "source": [
    "def solve_part2(input):\n",
    "    almanac = build_almanac(input)\n",
    "    soil = transform_multirange(almanac['seeds'], almanac['seed_soil'])\n",
    "    fertilizer = transform_multirange(soil, almanac['soil_fertilizer'])\n",
    "    water = transform_multirange(fertilizer, almanac['fertilizer_water'])\n",
    "    light = transform_multirange(water, almanac['water_light'])\n",
    "    temperature = transform_multirange(light, almanac['light_temperature'])\n",
    "    humidity = transform_multirange(temperature, almanac['temperature_humidity'])\n",
    "    location = transform_multirange(humidity, almanac['humidity_location'])\n",
    "    \n",
    "    range_beginnings = []\n",
    "    for startposition in range(0, len(location), 2):\n",
    "        range_beginnings.append(location[startposition])\n",
    "    \n",
    "    return min(range_beginnings)\n",
    "\n",
    "solve_part2(sample_input)"
   ]
  },
  {
   "cell_type": "code",
   "execution_count": 31,
   "id": "896b9fe3-36ab-4eec-a9aa-a127d35b6453",
   "metadata": {},
   "outputs": [
    {
     "data": {
      "text/plain": [
       "60568880"
      ]
     },
     "execution_count": 31,
     "metadata": {},
     "output_type": "execute_result"
    }
   ],
   "source": [
    "solve_part2(puzzle_input)"
   ]
  },
  {
   "cell_type": "markdown",
   "id": "55e0fe4c-9b7e-47e4-aa57-708c8ac0c06b",
   "metadata": {},
   "source": [
    "60568880 is correct!"
   ]
  },
  {
   "cell_type": "markdown",
   "id": "363cce1c-9a99-48ef-9226-5f532db7dadb",
   "metadata": {},
   "source": [
    "I'm sure there's a more elegant way to do that, though."
   ]
  },
  {
   "cell_type": "code",
   "execution_count": null,
   "id": "e70211a0-796f-445c-8729-320b82f06d12",
   "metadata": {},
   "outputs": [],
   "source": []
  }
 ],
 "metadata": {
  "kernelspec": {
   "display_name": "Python 3 (ipykernel)",
   "language": "python",
   "name": "python3"
  },
  "language_info": {
   "codemirror_mode": {
    "name": "ipython",
    "version": 3
   },
   "file_extension": ".py",
   "mimetype": "text/x-python",
   "name": "python",
   "nbconvert_exporter": "python",
   "pygments_lexer": "ipython3",
   "version": "3.9.6"
  }
 },
 "nbformat": 4,
 "nbformat_minor": 5
}
