{
 "cells": [
  {
   "cell_type": "markdown",
   "id": "71428392-d06a-4d4a-a74a-43f9d3dd45fd",
   "metadata": {},
   "source": [
    "# Day 4: Scratchcards\n",
    "\n",
    "https://adventofcode.com/2023/day/4\n",
    "\n",
    "I'm helping an elf figure out the value of his scratchcards. In return, he promises to loan me his boat, so I can go see the gardener for further help with my quest.\n",
    "\n",
    "## Part 1\n",
    "\n",
    "In this table, numbers on the left are the winning numbers and numbers on the right are the numbers we have. The first match is worth one point and each subsequent match doubles the value of the scratchcard. The 5 cards in the example are worth 8, 2, 2, 1, 0, 0 points, respectively, for a total of 13 points."
   ]
  },
  {
   "cell_type": "code",
   "execution_count": 1,
   "id": "f55bb01e-d218-428b-9257-3d7462c4caf2",
   "metadata": {},
   "outputs": [],
   "source": [
    "sample_input = '''Card 1: 41 48 83 86 17 | 83 86  6 31 17  9 48 53\n",
    "Card 2: 13 32 20 16 61 | 61 30 68 82 17 32 24 19\n",
    "Card 3:  1 21 53 59 44 | 69 82 63 72 16 21 14  1\n",
    "Card 4: 41 92 73 84 69 | 59 84 76 51 58  5 54 83\n",
    "Card 5: 87 83 26 28 32 | 88 30 70 12 93 22 82 36\n",
    "Card 6: 31 18 13 56 72 | 74 77 10 23 35 67 36 11'''"
   ]
  },
  {
   "cell_type": "code",
   "execution_count": 2,
   "id": "b91ec54d-a293-4097-9c46-410cda6bf530",
   "metadata": {},
   "outputs": [
    {
     "data": {
      "text/plain": [
       "8"
      ]
     },
     "execution_count": 2,
     "metadata": {},
     "output_type": "execute_result"
    }
   ],
   "source": [
    "def cardvalue(card):\n",
    "    winning = card[card.find(':')+1 : card.find('|')].split()\n",
    "    have = card[card.find('|')+1:].split()\n",
    "    value = 0\n",
    "    for n in have:\n",
    "        if n in winning:\n",
    "            if value == 0:\n",
    "                value = 1\n",
    "            else:\n",
    "                value = value * 2\n",
    "    return value\n",
    "\n",
    "\n",
    "cardvalue(sample_input.split('\\n')[0])"
   ]
  },
  {
   "cell_type": "code",
   "execution_count": 3,
   "id": "fa50868e-8b9f-43ef-9ce2-d6f589b8c436",
   "metadata": {},
   "outputs": [],
   "source": [
    "def solve_part1(bigstring):\n",
    "    cards = bigstring.split('\\n')\n",
    "    sum = 0\n",
    "    for card in cards:\n",
    "        sum = sum + cardvalue(card)\n",
    "    return sum"
   ]
  },
  {
   "cell_type": "code",
   "execution_count": 4,
   "id": "230cbed8-67eb-4215-aaa7-3926ddf5a62c",
   "metadata": {},
   "outputs": [
    {
     "data": {
      "text/plain": [
       "13"
      ]
     },
     "execution_count": 4,
     "metadata": {},
     "output_type": "execute_result"
    }
   ],
   "source": [
    "solve_part1(sample_input)"
   ]
  },
  {
   "cell_type": "code",
   "execution_count": 5,
   "id": "4fb6f42c-595a-488c-a22c-97336c170b3d",
   "metadata": {},
   "outputs": [],
   "source": [
    "with open('data/day04_in.txt', 'r') as f:\n",
    "    puzzle_input = f.read()"
   ]
  },
  {
   "cell_type": "code",
   "execution_count": 6,
   "id": "7a290e30-66c9-4f42-abf5-1dcab9323b27",
   "metadata": {},
   "outputs": [
    {
     "data": {
      "text/plain": [
       "27845"
      ]
     },
     "execution_count": 6,
     "metadata": {},
     "output_type": "execute_result"
    }
   ],
   "source": [
    "solve_part1(puzzle_input)"
   ]
  },
  {
   "cell_type": "markdown",
   "id": "aa46391f-e04f-449b-8784-099d8ef52ef4",
   "metadata": {},
   "source": [
    "## Part 2\n",
    "\n",
    "Uh oh, we didn't read the rules. There's no such thing as points. You win a copy of subsequent cards for each match. If card 10 has 5 matching numbers, you win one copy each of cards 11, 12, 13, 14, and 15. Each copy of those cards is processed the same way. The game is structured so you will not win copies of cards beyond the end of the table."
   ]
  },
  {
   "cell_type": "code",
   "execution_count": 7,
   "id": "09811c7c-2d9e-4bfc-99b6-7dcb9bbfa532",
   "metadata": {},
   "outputs": [],
   "source": [
    "import numpy as np"
   ]
  },
  {
   "cell_type": "code",
   "execution_count": 8,
   "id": "a2eaebb9-54e7-4003-ac7b-5c65c0373bbe",
   "metadata": {},
   "outputs": [
    {
     "data": {
      "text/plain": [
       "4"
      ]
     },
     "execution_count": 8,
     "metadata": {},
     "output_type": "execute_result"
    }
   ],
   "source": [
    "def cardmatches(card):\n",
    "    '''returns the number of matching numbers on the card'''\n",
    "    winning = card[card.find(':')+1 : card.find('|')].split()\n",
    "    have = card[card.find('|')+1:].split()\n",
    "    matches = 0\n",
    "    for n in have:\n",
    "        if n in winning:\n",
    "            matches = matches + 1\n",
    "    return matches\n",
    "\n",
    "cardmatches(sample_input.split('\\n')[0])"
   ]
  },
  {
   "cell_type": "code",
   "execution_count": 12,
   "id": "170b922a-37ca-41c4-beea-c3307c752b70",
   "metadata": {},
   "outputs": [
    {
     "name": "stdout",
     "output_type": "stream",
     "text": [
      "Card 1: 41 48 83 86 17 | 83 86  6 31 17  9 48 53\n",
      "4 matches\n",
      "[1 2 2 2 2 1] \n",
      "\n",
      "Card 2: 13 32 20 16 61 | 61 30 68 82 17 32 24 19\n",
      "2 matches\n",
      "[1 2 4 4 2 1] \n",
      "\n",
      "Card 3:  1 21 53 59 44 | 69 82 63 72 16 21 14  1\n",
      "2 matches\n",
      "[1 2 4 8 6 1] \n",
      "\n",
      "Card 4: 41 92 73 84 69 | 59 84 76 51 58  5 54 83\n",
      "1 matches\n",
      "[ 1  2  4  8 14  1] \n",
      "\n",
      "Card 5: 87 83 26 28 32 | 88 30 70 12 93 22 82 36\n",
      "0 matches\n",
      "[ 1  2  4  8 14  1] \n",
      "\n",
      "Card 6: 31 18 13 56 72 | 74 77 10 23 35 67 36 11\n",
      "0 matches\n",
      "[ 1  2  4  8 14  1] \n",
      "\n"
     ]
    },
    {
     "data": {
      "text/plain": [
       "30"
      ]
     },
     "execution_count": 12,
     "metadata": {},
     "output_type": "execute_result"
    }
   ],
   "source": [
    "def calculate_winnings(cards, verbose=False):\n",
    "    copies = np.ones(len(cards)).astype(int)\n",
    "    card_index = 0\n",
    "    while card_index < len(cards):\n",
    "        if verbose: print(cards[card_index])\n",
    "        if verbose: print(f'{cardmatches(cards[card_index])} matches')\n",
    "        copy_index = cardmatches(cards[card_index])\n",
    "        while copy_index > 0:\n",
    "            copies[card_index + copy_index] += copies[card_index]\n",
    "            copy_index = copy_index - 1\n",
    "        if verbose: print(copies, '\\n')\n",
    "        card_index = card_index + 1\n",
    "    \n",
    "    return sum(copies)\n",
    "\n",
    "calculate_winnings(sample_input.split('\\n'), verbose=True)"
   ]
  },
  {
   "cell_type": "code",
   "execution_count": 13,
   "id": "f5b34672-770e-46c4-a67c-685314c92f29",
   "metadata": {},
   "outputs": [
    {
     "data": {
      "text/plain": [
       "9496801"
      ]
     },
     "execution_count": 13,
     "metadata": {},
     "output_type": "execute_result"
    }
   ],
   "source": [
    "calculate_winnings(puzzle_input.split('\\n'), verbose=False)"
   ]
  },
  {
   "cell_type": "markdown",
   "id": "6be6e01a-fe6a-44b3-a0c9-72de91fff020",
   "metadata": {},
   "source": [
    "9496801 is correct."
   ]
  },
  {
   "cell_type": "code",
   "execution_count": null,
   "id": "f7385b89-2f57-4670-8ec9-1833875d7fce",
   "metadata": {},
   "outputs": [],
   "source": []
  }
 ],
 "metadata": {
  "kernelspec": {
   "display_name": "Python 3 (ipykernel)",
   "language": "python",
   "name": "python3"
  },
  "language_info": {
   "codemirror_mode": {
    "name": "ipython",
    "version": 3
   },
   "file_extension": ".py",
   "mimetype": "text/x-python",
   "name": "python",
   "nbconvert_exporter": "python",
   "pygments_lexer": "ipython3",
   "version": "3.9.6"
  }
 },
 "nbformat": 4,
 "nbformat_minor": 5
}
