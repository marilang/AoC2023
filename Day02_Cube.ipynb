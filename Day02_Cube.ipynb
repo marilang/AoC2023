{
 "cells": [
  {
   "cell_type": "markdown",
   "id": "fdeef685-fb4b-43c7-99b9-88a4b794bc25",
   "metadata": {},
   "source": [
    "# Day 2: Cube Conundrum\n",
    "\n",
    "https://adventofcode.com/2023/day/2\n",
    "\n",
    "I've landed on Snow Island and am walking with an elf. We're playing a game where red, green, and blue cubes are hidden in a bag. They elf pulls out a few sets of cubes for each game, and puts them back in the bag. "
   ]
  },
  {
   "cell_type": "code",
   "execution_count": 1,
   "id": "f097b73e-3ce9-4956-b576-be08e57203cf",
   "metadata": {},
   "outputs": [],
   "source": [
    "sample_input = '''Game 1: 3 blue, 4 red; 1 red, 2 green, 6 blue; 2 green\n",
    "Game 2: 1 blue, 2 green; 3 green, 4 blue, 1 red; 1 green, 1 blue\n",
    "Game 3: 8 green, 6 blue, 20 red; 5 blue, 4 red, 13 green; 5 green, 1 red\n",
    "Game 4: 1 green, 3 red, 6 blue; 3 green, 6 red; 3 green, 15 blue, 14 red\n",
    "Game 5: 6 red, 1 blue, 3 green; 2 blue, 1 red, 2 green'''"
   ]
  },
  {
   "cell_type": "markdown",
   "id": "d29ce8f4-563c-40a3-b064-029ecac91b6b",
   "metadata": {},
   "source": [
    "## Part 1\n",
    "First, which games are possible if the bag containes only <strong>12 red cubes, 13 green cubes, and 14 blue cubes</strong>? Find the <strong>sum of the game ID's</strong> for the games that are possible.\n",
    "\n",
    "Let's think about it first:\n",
    "\n",
    "* Within each set, the number of cubes of each color must be less than the number of cubes of that color in the bag.\n",
    "\n",
    "That's pretty much all we need to consider, since we know everything about the bag contents at this time.\n",
    "\n",
    "We break the input into games."
   ]
  },
  {
   "cell_type": "code",
   "execution_count": 2,
   "id": "b4f74c32-7626-498c-bc09-e2cea9ce5947",
   "metadata": {},
   "outputs": [
    {
     "data": {
      "text/plain": [
       "'Game 1: 3 blue, 4 red; 1 red, 2 green, 6 blue; 2 green'"
      ]
     },
     "execution_count": 2,
     "metadata": {},
     "output_type": "execute_result"
    }
   ],
   "source": [
    "games = sample_input.split('\\n')\n",
    "game = games[0]\n",
    "game"
   ]
  },
  {
   "cell_type": "markdown",
   "id": "248192a3-359e-4fff-b635-e9a5c66e6251",
   "metadata": {},
   "source": [
    "We read the ID and the sets in each game. We'll make a list of the strings describing each set."
   ]
  },
  {
   "cell_type": "code",
   "execution_count": 3,
   "id": "2d0770b2-b6d2-49b0-b91a-9e952314607f",
   "metadata": {},
   "outputs": [
    {
     "data": {
      "text/plain": [
       "'1'"
      ]
     },
     "execution_count": 3,
     "metadata": {},
     "output_type": "execute_result"
    }
   ],
   "source": [
    "def get_id(game):\n",
    "    header = game[: game.find(\":\")]\n",
    "    header = header.split()\n",
    "    id = header[1]\n",
    "    return id\n",
    "\n",
    "id = get_id(game)\n",
    "id"
   ]
  },
  {
   "cell_type": "code",
   "execution_count": 4,
   "id": "59ba29bc-7ccc-444a-b9a3-2f4a7d32f68c",
   "metadata": {},
   "outputs": [
    {
     "data": {
      "text/plain": [
       "[' 3 blue, 4 red', ' 1 red, 2 green, 6 blue', ' 2 green']"
      ]
     },
     "execution_count": 4,
     "metadata": {},
     "output_type": "execute_result"
    }
   ],
   "source": [
    "def get_sets(game):\n",
    "    body = game[game.find(':')+1 :]\n",
    "    sets = body.split(';');\n",
    "    return sets\n",
    "\n",
    "sets = get_sets(game)\n",
    "sets"
   ]
  },
  {
   "cell_type": "markdown",
   "id": "0e06f941-ac82-4741-8598-7f3cd1c819d6",
   "metadata": {},
   "source": [
    "The sets are disorderly. We will express them as a list of the counts of red, green, and blue cubes, in that order."
   ]
  },
  {
   "cell_type": "code",
   "execution_count": 5,
   "id": "9268e752-a3aa-406b-a3d4-1da1361e4b1b",
   "metadata": {},
   "outputs": [
    {
     "data": {
      "text/plain": [
       "[4, 0, 3]"
      ]
     },
     "execution_count": 5,
     "metadata": {},
     "output_type": "execute_result"
    }
   ],
   "source": [
    "def get_rgb(set):\n",
    "    red = 0\n",
    "    green = 0\n",
    "    blue = 0\n",
    "    for color in set.split(','):\n",
    "        color = color.split()\n",
    "        if color[1] == 'red':\n",
    "            red = int(color[0])\n",
    "        elif color[1] == 'green':\n",
    "            green = int(color[0])\n",
    "        elif color[1] == 'blue':\n",
    "            blue = int(color[0])\n",
    "    return [red, green, blue]\n",
    "\n",
    "cubes = get_rgb(sets[0])\n",
    "cubes"
   ]
  },
  {
   "cell_type": "markdown",
   "id": "42809cf1-ac8c-4d4f-a7f1-b0f25331d909",
   "metadata": {},
   "source": [
    "Now we'll need to know, considering all the sets in a game, what's the maximum number of cubes that were seen of each color?"
   ]
  },
  {
   "cell_type": "code",
   "execution_count": 6,
   "id": "aca284f9-0d10-4d8f-95e8-8c6da04d130e",
   "metadata": {},
   "outputs": [
    {
     "data": {
      "text/plain": [
       "[4, 2, 6]"
      ]
     },
     "execution_count": 6,
     "metadata": {},
     "output_type": "execute_result"
    }
   ],
   "source": [
    "def max_rgb(sets):\n",
    "    rgb = [0, 0, 0]\n",
    "    for set in sets:\n",
    "        colors = get_rgb(set)\n",
    "        for n in range(len(rgb)):\n",
    "            rgb[n] = max(rgb[n], colors[n])\n",
    "    return rgb\n",
    "\n",
    "maxrgb = max_rgb(sets)\n",
    "maxrgb"
   ]
  },
  {
   "cell_type": "markdown",
   "id": "bf26c349-718f-41b3-a3e9-25cc879bd32f",
   "metadata": {},
   "source": [
    "Now let's go through the sample input line by line and inspect our results."
   ]
  },
  {
   "cell_type": "code",
   "execution_count": 7,
   "id": "3c1d39f8-e1e9-412d-a935-5f47ba88a1f0",
   "metadata": {},
   "outputs": [
    {
     "name": "stdout",
     "output_type": "stream",
     "text": [
      "1 [4, 2, 6] True\n",
      "2 [1, 3, 4] True\n",
      "3 [20, 13, 6] False\n",
      "4 [14, 3, 15] False\n",
      "5 [6, 3, 2] True\n"
     ]
    },
    {
     "data": {
      "text/plain": [
       "8"
      ]
     },
     "execution_count": 7,
     "metadata": {},
     "output_type": "execute_result"
    }
   ],
   "source": [
    "bag_rgb = [12, 13, 14]\n",
    "sum = 0\n",
    "for game in games:\n",
    "    id = get_id(game)\n",
    "    maxrgb = max_rgb(get_sets(game))\n",
    "    possible = (maxrgb[0] <= bag_rgb[0]) and (maxrgb[1] <= bag_rgb[1]) and (maxrgb[2] <= bag_rgb[2])\n",
    "    if possible:\n",
    "        sum = sum + int(id)\n",
    "    print(id, maxrgb, possible)\n",
    "\n",
    "sum"
   ]
  },
  {
   "cell_type": "markdown",
   "id": "69c59bda-2036-45b8-a508-04343580dfae",
   "metadata": {},
   "source": [
    "That all looks good, so we put it all together."
   ]
  },
  {
   "cell_type": "code",
   "execution_count": 8,
   "id": "3236448b-0548-47d9-bb64-ff2ef623cb5c",
   "metadata": {},
   "outputs": [],
   "source": [
    "def solve_part1(bigstring):\n",
    "    games = bigstring.split('\\n')\n",
    "    bag_rgb = [12, 13, 14]\n",
    "    sum = 0\n",
    "    for game in games:\n",
    "        id = get_id(game)\n",
    "        maxrgb = max_rgb(get_sets(game))\n",
    "        possible = (maxrgb[0] <= bag_rgb[0]) and (maxrgb[1] <= bag_rgb[1]) and (maxrgb[2] <= bag_rgb[2])\n",
    "        if possible:\n",
    "            sum = sum + int(id)\n",
    "    return sum\n",
    "    "
   ]
  },
  {
   "cell_type": "code",
   "execution_count": 9,
   "id": "8c9d362d-3b68-4a53-aea4-46447bdf1743",
   "metadata": {},
   "outputs": [
    {
     "data": {
      "text/plain": [
       "8"
      ]
     },
     "execution_count": 9,
     "metadata": {},
     "output_type": "execute_result"
    }
   ],
   "source": [
    "solve_part1(sample_input)"
   ]
  },
  {
   "cell_type": "code",
   "execution_count": 10,
   "id": "1b94f570-fd0d-42cc-84e9-651f73a874b6",
   "metadata": {
    "scrolled": true
   },
   "outputs": [
    {
     "name": "stdout",
     "output_type": "stream",
     "text": [
      "Game 1: 2 blue, 4 green; 7 blue, 1 red, 14 green; 5 blue, 13 green, 1 red; 1 red, 7 blue, 11 green\n",
      "Game 2: 6 blue, 3 green; 4 red, 1 green, 7 blue; 2 green\n",
      "Game 3: 4 blue, 3 red; 2 blue, 4 red, 7 green; 1 blue, 6 red, 7 green; 5 green, 10 blue; 9 green, 1 blue, 6 red; 8 blue, 1 red, 12 green\n",
      "Game 4: 15 blue, 4 green, 5 red; 2 red, 2 green, 5 blue; 3 green, 13 blue; 17 blue, 1 green, 5 red\n",
      "Game 5: 11 green, 4 red, 3 blue; 8 blue, 6 green; 8 green, 2 red, 9 blue; 4 red, 16 blue; 8 blue, 10 red, 6 green; 9 blue, 3 red, 10 green\n",
      "Game 6: 4 green, 9 red, 2 blue; 7 red, 2 green, 15 blue; 13 red, 2 green, 6 blue; 5 green, 7 blue, 6 red; 19 red, 15 blue, 4 green\n",
      "Game 7: 12 blue, 5 red; 5 green, 6 blue; 5 red, 15 blue; 5 blue, 5 red, 5 green; 1 green, 11 blue, 2 red\n",
      "Game 8: 6 red, 11 green; 5 red, 2 blue, 7 green; 7 red, 6 green\n",
      "Game 9: 5 red, 1 blue, 11 green; 4 green, 1 blue; 8 green, 2 red; 1 green, 2 red, 2 blue; 3 green, 2 red\n",
      "Game 10: 7 blue, 4 red, 11 green; 13 green, 1 red, 1 blue; 7 blue, 6 green\n",
      "Game 11: 4 blue, 7 red, 2 green; 1 green, 14 red, 3 blue; 2 green, 5 red, 3 blue\n",
      "Game 12: 6 green, 6 blue, 1 red; 1 green, 3 red, 2 blue; 2 blue, 6 red, 7 green\n",
      "Game 13: 6 red, 10 green, 13 blue; 3 red, 12 green, 9 blue; 11 blue, 1 green; 4 red, 3 blue, 13 green; 12 green, 10 blue, 6 red; 13 blue, 3 green, 3 red\n",
      "Game 14: 8 green, 1 blue, 17 red; 7 green, 11 blue, 19 red; 19 red, 9 blue, 2 green; 8 green, 20 red, 12 blue; 16 red, 3 green, 11 blue\n",
      "Game 15: 3 red, 1 green, 5 blue; 9 blue, 4 green; 6 blue, 5 green, 9 red\n",
      "Game 16: 13 blue, 1 red; 2 blue, 2 green; 1 green; 10 blue, 8 red; 4 red, 3 green, 9 blue\n",
      "Game 17: 10 blue, 2 red; 3 green, 4 red; 6 blue, 1 red, 6 green; 5 green, 7 blue, 5 red\n",
      "Game 18: 3 red, 1 green; 2 red, 5 blue; 5 blue, 2 red\n",
      "Game 19: 7 green, 4 blue, 1 red; 1 green, 4 blue, 4 red; 6 blue, 8 green; 4 green, 2 blue, 1 red; 1 red, 1 blue, 2 green\n",
      "Game 20: 13 green, 1 red, 1 blue; 12 green, 1 blue; 5 green, 1 blue, 2 red; 16 green, 3 red; 2 red, 9 green\n",
      "Game 21: 8 red, 2 green, 2 blue; 5 red, 3 blue; 2 blue, 5 red, 2 green; 7 blue\n",
      "Game 22: 9 red, 12 blue, 7 green; 7 red, 13 blue, 4 green; 9 blue, 13 red, 1 green; 3 blue, 4 red, 5 green\n",
      "Game 23: 7 green, 12 red; 6 red, 7 green, 4 blue; 1 blue, 11 red, 5 green; 4 green, 2 blue, 6 red; 12 green, 6 red, 3 blue\n",
      "Game 24: 11 red, 4 blue; 9 blue, 6 green, 17 red; 8 green, 2 red; 16 blue, 6 red, 2 green\n",
      "Game 25: 7 red, 4 blue; 7 blue, 4 green; 10 blue, 4 red, 2 green; 6 green, 4 blue, 1 red; 10 blue, 2 red, 4 green\n",
      "Game 26: 7 green, 8 red, 6 blue; 5 red, 3 green, 2 blue; 13 blue, 6 green, 5 red; 10 blue, 4 red, 8 green; 2 red, 2 blue, 1 green; 8 blue, 1 green, 4 red\n",
      "Game 27: 7 green, 3 blue, 13 red; 1 green, 17 red, 1 blue; 16 red, 3 blue, 3 green; 5 green, 3 red, 5 blue; 13 red, 4 green, 8 blue; 6 blue, 2 green, 15 red\n",
      "Game 28: 8 blue, 5 red, 18 green; 1 green, 6 red; 7 blue, 18 green, 5 red; 16 green, 3 red, 7 blue; 6 blue, 18 green; 8 blue, 8 green, 7 red\n",
      "Game 29: 4 blue, 1 red; 6 blue, 1 red; 17 blue, 1 green\n",
      "Game 30: 1 red, 2 green, 5 blue; 2 blue, 7 green, 6 red; 11 blue, 4 red, 2 green; 5 green, 6 blue, 4 red; 5 red, 8 blue, 7 green\n",
      "Game 31: 10 green, 9 blue; 5 green, 9 blue, 1 red; 1 red, 8 blue\n",
      "Game 32: 3 red, 5 green; 5 red, 5 blue, 14 green; 2 red, 2 green; 11 green, 3 red, 5 blue\n",
      "Game 33: 7 blue, 10 green, 8 red; 18 blue, 15 green, 4 red; 6 red, 1 green; 18 blue, 8 red, 11 green\n",
      "Game 34: 3 green; 2 red, 5 green; 5 blue, 3 green; 3 blue, 5 green, 1 red\n",
      "Game 35: 1 blue, 5 green, 6 red; 3 green, 2 red, 3 blue; 4 red, 9 blue, 3 green; 1 green, 12 blue, 1 red\n",
      "Game 36: 14 green, 3 blue, 16 red; 1 green, 2 red, 4 blue; 4 blue, 9 green, 18 red; 4 blue, 4 green, 14 red; 4 blue, 11 green\n",
      "Game 37: 7 green, 2 blue, 3 red; 8 green, 9 red, 2 blue; 4 blue, 15 green, 18 red\n",
      "Game 38: 11 red, 1 blue, 6 green; 6 green, 2 blue, 1 red; 6 blue, 17 red, 2 green; 17 red, 9 blue, 3 green; 7 red, 7 blue, 3 green; 3 green, 7 red, 7 blue\n",
      "Game 39: 1 blue, 2 green; 1 blue, 2 green, 7 red; 1 blue, 4 red, 2 green; 1 blue, 12 red\n",
      "Game 40: 1 blue, 4 red, 15 green; 12 green, 1 blue, 15 red; 15 red, 8 green\n",
      "Game 41: 5 blue, 5 green, 1 red; 9 red, 8 green, 9 blue; 10 red, 10 blue, 4 green; 3 blue, 17 red, 3 green; 3 blue, 4 red, 2 green\n",
      "Game 42: 2 blue, 10 red, 17 green; 6 red, 10 green, 10 blue; 3 blue, 6 green, 8 red; 9 green, 2 blue, 8 red; 13 green, 5 blue; 4 red, 18 green, 11 blue\n",
      "Game 43: 8 red, 3 blue, 6 green; 2 red, 8 green, 10 blue; 5 blue, 9 red, 9 green; 1 green, 15 red, 8 blue\n",
      "Game 44: 11 green, 19 red, 14 blue; 1 red, 19 green, 9 blue; 7 green, 8 red, 10 blue; 14 green, 8 blue, 15 red; 7 green, 3 red, 2 blue\n",
      "Game 45: 4 green, 9 blue, 4 red; 7 blue, 13 green, 2 red; 12 green, 10 blue, 10 red\n",
      "Game 46: 10 red, 2 green, 1 blue; 10 red, 10 green, 1 blue; 1 blue, 13 green; 1 blue, 2 green, 10 red; 1 blue, 7 red, 11 green; 10 red, 5 green\n",
      "Game 47: 3 blue, 2 green, 12 red; 5 blue, 7 red; 5 green, 14 red; 12 red, 7 green, 5 blue\n",
      "Game 48: 5 red, 1 blue, 3 green; 7 red, 8 green, 4 blue; 4 blue, 5 green, 17 red; 1 blue, 12 red\n",
      "Game 49: 2 green, 7 red, 1 blue; 11 green, 5 red; 4 red, 1 blue, 1 green; 11 green, 1 blue, 7 red\n",
      "Game 50: 10 red, 3 blue, 6 green; 1 blue, 5 red, 3 green; 6 blue, 11 red, 12 green; 10 green\n",
      "Game 51: 18 blue, 1 green, 1 red; 15 blue; 13 blue, 11 green, 4 red; 8 red, 1 green, 18 blue; 10 green, 7 blue, 8 red\n",
      "Game 52: 13 green, 15 blue; 6 blue, 4 red, 8 green; 6 red, 13 green, 11 blue; 2 red, 7 green, 13 blue; 12 green, 2 blue, 3 red; 6 red, 11 green, 1 blue\n",
      "Game 53: 2 red, 2 green; 3 green, 1 blue, 1 red; 1 blue, 4 green, 7 red; 4 red, 1 blue; 4 red, 5 green, 2 blue\n",
      "Game 54: 8 blue, 2 red, 5 green; 6 green, 2 blue, 3 red; 1 blue, 8 green, 4 red\n",
      "Game 55: 6 green, 6 blue, 3 red; 13 green, 1 red; 2 blue, 1 red, 1 green; 14 green, 1 blue, 1 red; 1 blue, 2 red, 9 green; 9 green, 2 blue, 4 red\n",
      "Game 56: 4 green, 6 blue, 1 red; 5 red, 3 blue; 6 red, 1 blue; 9 green, 5 blue, 7 red\n",
      "Game 57: 5 red, 5 green, 8 blue; 11 red, 3 blue, 8 green; 7 green, 9 blue, 11 red; 3 green, 2 blue, 12 red\n",
      "Game 58: 3 green, 3 red; 4 red, 1 green; 1 red, 6 green; 5 green; 5 red, 1 blue, 3 green; 3 red, 1 blue\n",
      "Game 59: 2 green, 2 blue; 7 red, 18 green; 2 blue, 7 red, 16 green; 7 red, 10 green\n",
      "Game 60: 3 blue, 4 red; 4 blue, 3 red, 3 green; 16 green\n",
      "Game 61: 1 blue, 2 red, 8 green; 9 blue, 4 green, 12 red; 10 green, 2 red; 5 blue, 11 red, 1 green; 10 green, 3 blue, 8 red; 5 red, 2 green\n",
      "Game 62: 15 red, 10 blue, 7 green; 4 blue, 9 red, 4 green; 4 red, 2 blue, 2 green; 11 green, 2 red; 8 blue, 2 green; 2 green, 8 red, 8 blue\n",
      "Game 63: 2 green, 3 blue, 1 red; 7 blue, 5 red; 7 blue\n",
      "Game 64: 3 green, 5 blue, 6 red; 9 green, 4 red; 13 red, 1 blue, 5 green; 4 blue, 13 red, 8 green\n",
      "Game 65: 7 green, 1 blue; 1 red, 14 blue, 4 green; 8 blue, 6 red; 14 green, 4 red\n",
      "Game 66: 6 red, 11 green, 7 blue; 1 blue, 6 red; 13 red, 7 blue, 3 green; 8 red, 6 blue, 15 green; 7 green, 6 blue, 4 red; 4 red, 1 blue, 20 green\n",
      "Game 67: 4 blue, 9 green; 15 red, 16 green, 3 blue; 1 green, 14 red, 3 blue; 3 red, 2 blue, 3 green; 4 green, 3 blue, 12 red\n",
      "Game 68: 5 green, 3 blue, 2 red; 4 green, 8 blue, 11 red; 6 red, 6 blue, 4 green; 8 red, 5 blue, 7 green; 6 blue, 6 green, 11 red; 2 blue, 3 green, 3 red\n",
      "Game 69: 15 blue, 16 green, 5 red; 10 blue, 3 red, 13 green; 4 red, 5 blue, 2 green; 1 red; 11 green, 5 red, 15 blue\n",
      "Game 70: 8 red, 9 blue, 12 green; 3 red, 2 blue, 14 green; 10 blue, 1 red, 18 green; 1 blue, 7 red, 16 green; 3 green, 4 red, 16 blue; 10 green, 6 red\n",
      "Game 71: 12 blue, 7 red, 16 green; 2 red, 9 blue, 15 green; 1 red, 11 blue, 11 green; 15 red, 16 blue, 2 green\n",
      "Game 72: 1 blue, 11 red, 6 green; 1 red, 2 blue, 5 green; 4 green, 2 red; 2 green, 12 red\n",
      "Game 73: 1 blue, 1 red; 2 red, 4 blue, 2 green; 1 blue, 2 green, 10 red; 8 red\n",
      "Game 74: 12 red, 1 green, 4 blue; 1 red, 5 blue, 1 green; 11 green, 16 red, 7 blue; 7 red, 1 blue, 1 green; 12 red, 11 green, 12 blue; 11 green, 6 red\n",
      "Game 75: 12 green, 8 red, 3 blue; 7 red, 10 green; 1 green, 7 blue, 1 red\n",
      "Game 76: 4 green, 1 red, 3 blue; 7 blue, 3 green, 3 red; 4 blue, 2 red, 3 green; 4 blue, 1 green\n",
      "Game 77: 2 green, 12 blue, 10 red; 5 blue, 7 red; 2 red, 6 green; 1 blue, 2 red, 6 green\n",
      "Game 78: 2 green, 4 blue, 4 red; 8 green, 10 red, 10 blue; 5 green, 8 blue, 10 red; 6 green, 2 red\n",
      "Game 79: 3 green, 2 blue, 11 red; 8 red, 11 green, 1 blue; 1 blue, 16 red; 5 red, 7 green, 16 blue; 12 red, 7 green, 9 blue; 4 red, 20 blue, 12 green\n",
      "Game 80: 3 red, 5 green; 2 blue, 4 green; 2 red, 12 green, 4 blue; 10 green, 1 blue, 1 red; 4 blue, 3 red\n",
      "Game 81: 1 blue, 1 green, 1 red; 5 green, 3 red, 1 blue; 1 blue, 6 green; 1 green; 1 red, 5 green, 2 blue; 1 blue, 1 red, 3 green\n",
      "Game 82: 7 green, 10 blue, 3 red; 10 green, 12 red, 12 blue; 18 red, 8 green, 14 blue; 3 red, 3 green, 10 blue; 3 red, 1 blue, 5 green; 1 green, 8 blue\n",
      "Game 83: 9 red, 3 blue; 14 blue, 8 red, 3 green; 14 blue, 5 green, 4 red\n",
      "Game 84: 2 blue, 3 red, 6 green; 11 green, 2 red, 1 blue; 17 green, 3 blue, 3 red; 1 red, 1 blue; 1 red, 2 blue, 19 green\n",
      "Game 85: 3 green, 2 blue, 3 red; 4 red, 5 blue, 8 green; 15 green, 1 red, 9 blue; 12 green, 3 blue, 2 red\n",
      "Game 86: 15 green, 7 red, 10 blue; 2 blue, 2 red, 1 green; 4 red, 1 green, 9 blue; 7 red, 14 blue, 5 green\n",
      "Game 87: 1 green, 3 blue, 1 red; 2 blue, 1 green; 1 blue, 2 green, 1 red\n",
      "Game 88: 2 green, 6 blue, 5 red; 5 blue, 2 red; 3 red, 13 blue; 9 blue, 10 red, 1 green\n",
      "Game 89: 6 green, 10 red, 2 blue; 7 red, 1 blue, 8 green; 4 blue, 3 red, 5 green; 4 green, 4 blue, 10 red\n",
      "Game 90: 8 red, 7 blue; 4 green, 3 red, 1 blue; 5 blue, 2 green\n",
      "Game 91: 15 green, 14 red; 12 red, 16 green, 2 blue; 8 red, 10 green; 1 green, 6 red; 8 green, 12 red\n",
      "Game 92: 4 blue, 4 green, 9 red; 1 blue, 17 green; 1 green; 15 green, 3 blue, 12 red; 11 red, 1 blue, 7 green; 7 blue, 13 red, 8 green\n",
      "Game 93: 10 blue, 12 red; 10 blue, 11 green, 8 red; 1 blue, 11 green, 7 red; 10 blue, 15 red, 5 green; 11 red, 8 green, 9 blue; 10 green, 3 blue\n",
      "Game 94: 1 blue, 2 red; 4 red, 1 green, 5 blue; 3 red, 2 green; 2 green, 2 blue; 1 red, 5 blue, 1 green; 4 blue, 1 red, 2 green\n",
      "Game 95: 1 red, 1 blue, 3 green; 2 green, 6 blue; 1 green, 13 blue, 1 red; 3 green, 15 blue\n",
      "Game 96: 16 blue, 7 green, 5 red; 5 green, 5 blue, 6 red; 3 green, 17 blue, 10 red; 13 blue, 2 red, 1 green\n",
      "Game 97: 12 red; 1 blue, 6 red, 1 green; 9 red, 2 blue, 1 green; 1 green, 2 blue, 1 red; 15 red, 1 blue; 1 blue\n",
      "Game 98: 11 red, 6 blue, 13 green; 4 blue, 2 red, 12 green; 2 blue, 8 green, 10 red\n",
      "Game 99: 2 red, 1 blue; 4 green; 7 green, 1 blue, 1 red; 5 green, 2 red; 1 blue, 2 red, 9 green; 2 green, 3 red\n",
      "Game 100: 7 red, 11 blue; 10 red, 5 blue, 1 green; 7 red, 1 green, 13 blue; 9 red; 9 red, 19 blue; 9 red, 9 blue\n"
     ]
    }
   ],
   "source": [
    "with open('data/day02_in.txt', 'r') as f:\n",
    "    puzzle_input = f.read()\n",
    "\n",
    "print(puzzle_input)"
   ]
  },
  {
   "cell_type": "code",
   "execution_count": 11,
   "id": "8c09b4bf-3ae4-4b3a-8652-bae33332d053",
   "metadata": {},
   "outputs": [
    {
     "data": {
      "text/plain": [
       "2406"
      ]
     },
     "execution_count": 11,
     "metadata": {},
     "output_type": "execute_result"
    }
   ],
   "source": [
    "solve_part1(puzzle_input)"
   ]
  },
  {
   "cell_type": "markdown",
   "id": "5b9fcf26-b297-4b82-b227-b7b20c83c03d",
   "metadata": {},
   "source": [
    "## Part 2\n",
    "\n",
    "The elf says they stopped producing snow because they weren't getting any water. We're on our way to the water source, working out the fewest number of cubes of each color that would make each game possible.\n",
    "\n",
    "Looks like maxrgb already contains that information. The puzzle answer requires calculating the power: red * green * blue, and then we sum the power of the sets instead of the set id's."
   ]
  },
  {
   "cell_type": "code",
   "execution_count": 12,
   "id": "b3bd729e-57e6-43b6-b559-2c9868a55fed",
   "metadata": {},
   "outputs": [],
   "source": [
    "def solve_part2(bigstring):\n",
    "    games = bigstring.split('\\n')\n",
    "    sum = 0\n",
    "    for game in games:\n",
    "        maxrgb = max_rgb(get_sets(game))\n",
    "        power = maxrgb[0] * maxrgb[1] * maxrgb[2]\n",
    "        sum = sum + power\n",
    "    return sum"
   ]
  },
  {
   "cell_type": "code",
   "execution_count": 13,
   "id": "48deca23-e8b1-4f21-a3c0-312861827776",
   "metadata": {},
   "outputs": [
    {
     "data": {
      "text/plain": [
       "2286"
      ]
     },
     "execution_count": 13,
     "metadata": {},
     "output_type": "execute_result"
    }
   ],
   "source": [
    "solve_part2(sample_input)"
   ]
  },
  {
   "cell_type": "code",
   "execution_count": 14,
   "id": "497dac72-a393-4e3d-ad41-006ae3bb3381",
   "metadata": {},
   "outputs": [
    {
     "data": {
      "text/plain": [
       "78375"
      ]
     },
     "execution_count": 14,
     "metadata": {},
     "output_type": "execute_result"
    }
   ],
   "source": [
    "solve_part2(puzzle_input)"
   ]
  },
  {
   "cell_type": "code",
   "execution_count": null,
   "id": "ad5de430-9a27-4e98-98df-dc254942b850",
   "metadata": {},
   "outputs": [],
   "source": []
  }
 ],
 "metadata": {
  "kernelspec": {
   "display_name": "Python 3 (ipykernel)",
   "language": "python",
   "name": "python3"
  },
  "language_info": {
   "codemirror_mode": {
    "name": "ipython",
    "version": 3
   },
   "file_extension": ".py",
   "mimetype": "text/x-python",
   "name": "python",
   "nbconvert_exporter": "python",
   "pygments_lexer": "ipython3",
   "version": "3.9.6"
  }
 },
 "nbformat": 4,
 "nbformat_minor": 5
}
