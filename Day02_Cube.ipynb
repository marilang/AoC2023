{
 "cells": [
  {
   "cell_type": "markdown",
   "id": "fdeef685-fb4b-43c7-99b9-88a4b794bc25",
   "metadata": {},
   "source": [
    "# Day 2: Cube Conundrum\n",
    "\n",
    "https://adventofcode.com/2023/day/2\n",
    "\n",
    "I've landed on Snow Island and am walking with an elf. We're playing a game where red, green, and blue cubes are hidden in a bag. They elf pulls out a few sets of cubes for each game, and puts them back in the bag. "
   ]
  },
  {
   "cell_type": "code",
   "execution_count": 1,
   "id": "f097b73e-3ce9-4956-b576-be08e57203cf",
   "metadata": {},
   "outputs": [],
   "source": [
    "sample_input = '''Game 1: 3 blue, 4 red; 1 red, 2 green, 6 blue; 2 green\n",
    "Game 2: 1 blue, 2 green; 3 green, 4 blue, 1 red; 1 green, 1 blue\n",
    "Game 3: 8 green, 6 blue, 20 red; 5 blue, 4 red, 13 green; 5 green, 1 red\n",
    "Game 4: 1 green, 3 red, 6 blue; 3 green, 6 red; 3 green, 15 blue, 14 red\n",
    "Game 5: 6 red, 1 blue, 3 green; 2 blue, 1 red, 2 green'''"
   ]
  },
  {
   "cell_type": "markdown",
   "id": "d29ce8f4-563c-40a3-b064-029ecac91b6b",
   "metadata": {},
   "source": [
    "## Part 1\n",
    "First, which games are possible if the bag containes only <strong>12 red cubes, 13 green cubes, and 14 blue cubes</strong>? Find the <strong>sum of the game ID's</strong> for the games that are possible.\n",
    "\n",
    "Let's think about it first:\n",
    "\n",
    "* Within each set, the number of cubes of each color must be less than the number of cubes of that color in the bag.\n",
    "\n",
    "That's pretty much all we need to consider, since we know everything about the bag contents at this time.\n",
    "\n",
    "We break the input into games."
   ]
  },
  {
   "cell_type": "code",
   "execution_count": 2,
   "id": "b4f74c32-7626-498c-bc09-e2cea9ce5947",
   "metadata": {},
   "outputs": [
    {
     "data": {
      "text/plain": [
       "'Game 1: 3 blue, 4 red; 1 red, 2 green, 6 blue; 2 green'"
      ]
     },
     "execution_count": 2,
     "metadata": {},
     "output_type": "execute_result"
    }
   ],
   "source": [
    "games = sample_input.split('\\n')\n",
    "game = games[0]\n",
    "game"
   ]
  },
  {
   "cell_type": "markdown",
   "id": "248192a3-359e-4fff-b635-e9a5c66e6251",
   "metadata": {},
   "source": [
    "We read the ID and the sets in each game. We'll make a list of the strings describing each set."
   ]
  },
  {
   "cell_type": "code",
   "execution_count": 3,
   "id": "2d0770b2-b6d2-49b0-b91a-9e952314607f",
   "metadata": {},
   "outputs": [
    {
     "data": {
      "text/plain": [
       "'1'"
      ]
     },
     "execution_count": 3,
     "metadata": {},
     "output_type": "execute_result"
    }
   ],
   "source": [
    "def get_id(game):\n",
    "    header = game[: game.find(\":\")]\n",
    "    header = header.split()\n",
    "    id = header[1]\n",
    "    return id\n",
    "\n",
    "id = get_id(game)\n",
    "id"
   ]
  },
  {
   "cell_type": "code",
   "execution_count": 4,
   "id": "59ba29bc-7ccc-444a-b9a3-2f4a7d32f68c",
   "metadata": {},
   "outputs": [
    {
     "data": {
      "text/plain": [
       "[' 3 blue, 4 red', ' 1 red, 2 green, 6 blue', ' 2 green']"
      ]
     },
     "execution_count": 4,
     "metadata": {},
     "output_type": "execute_result"
    }
   ],
   "source": [
    "def get_sets(game):\n",
    "    body = game[game.find(':')+1 :]\n",
    "    sets = body.split(';');\n",
    "    return sets\n",
    "\n",
    "sets = get_sets(game)\n",
    "sets"
   ]
  },
  {
   "cell_type": "markdown",
   "id": "0e06f941-ac82-4741-8598-7f3cd1c819d6",
   "metadata": {},
   "source": [
    "The sets are disorderly. We will express them as a list of the counts of red, green, and blue cubes, in that order."
   ]
  },
  {
   "cell_type": "code",
   "execution_count": 5,
   "id": "9268e752-a3aa-406b-a3d4-1da1361e4b1b",
   "metadata": {},
   "outputs": [
    {
     "data": {
      "text/plain": [
       "[4, 0, 3]"
      ]
     },
     "execution_count": 5,
     "metadata": {},
     "output_type": "execute_result"
    }
   ],
   "source": [
    "def get_rgb(set):\n",
    "    red = 0\n",
    "    green = 0\n",
    "    blue = 0\n",
    "    for color in set.split(','):\n",
    "        color = color.split()\n",
    "        if color[1] == 'red':\n",
    "            red = int(color[0])\n",
    "        elif color[1] == 'green':\n",
    "            green = int(color[0])\n",
    "        elif color[1] == 'blue':\n",
    "            blue = int(color[0])\n",
    "    return [red, green, blue]\n",
    "\n",
    "cubes = get_rgb(sets[0])\n",
    "cubes"
   ]
  },
  {
   "cell_type": "markdown",
   "id": "42809cf1-ac8c-4d4f-a7f1-b0f25331d909",
   "metadata": {},
   "source": [
    "Now we'll need to know, considering all the sets in a game, what's the maximum number of cubes that were seen of each color?"
   ]
  },
  {
   "cell_type": "code",
   "execution_count": 6,
   "id": "aca284f9-0d10-4d8f-95e8-8c6da04d130e",
   "metadata": {},
   "outputs": [
    {
     "data": {
      "text/plain": [
       "[4, 2, 6]"
      ]
     },
     "execution_count": 6,
     "metadata": {},
     "output_type": "execute_result"
    }
   ],
   "source": [
    "def max_rgb(sets):\n",
    "    rgb = [0, 0, 0]\n",
    "    for set in sets:\n",
    "        colors = get_rgb(set)\n",
    "        for n in range(len(rgb)):\n",
    "            rgb[n] = max(rgb[n], colors[n])\n",
    "    return rgb\n",
    "\n",
    "maxrgb = max_rgb(sets)\n",
    "maxrgb"
   ]
  },
  {
   "cell_type": "markdown",
   "id": "bf26c349-718f-41b3-a3e9-25cc879bd32f",
   "metadata": {},
   "source": [
    "Now let's go through the sample input line by line and inspect our results."
   ]
  },
  {
   "cell_type": "code",
   "execution_count": 7,
   "id": "3c1d39f8-e1e9-412d-a935-5f47ba88a1f0",
   "metadata": {},
   "outputs": [
    {
     "name": "stdout",
     "output_type": "stream",
     "text": [
      "1 [4, 2, 6] True\n",
      "2 [1, 3, 4] True\n",
      "3 [20, 13, 6] False\n",
      "4 [14, 3, 15] False\n",
      "5 [6, 3, 2] True\n"
     ]
    },
    {
     "data": {
      "text/plain": [
       "8"
      ]
     },
     "execution_count": 7,
     "metadata": {},
     "output_type": "execute_result"
    }
   ],
   "source": [
    "bag_rgb = [12, 13, 14]\n",
    "sum = 0\n",
    "for game in games:\n",
    "    id = get_id(game)\n",
    "    maxrgb = max_rgb(get_sets(game))\n",
    "    possible = (maxrgb[0] <= bag_rgb[0]) and (maxrgb[1] <= bag_rgb[1]) and (maxrgb[2] <= bag_rgb[2])\n",
    "    if possible:\n",
    "        sum = sum + int(id)\n",
    "    print(id, maxrgb, possible)\n",
    "\n",
    "sum"
   ]
  },
  {
   "cell_type": "markdown",
   "id": "69c59bda-2036-45b8-a508-04343580dfae",
   "metadata": {},
   "source": [
    "That all looks good, so we put it all together."
   ]
  },
  {
   "cell_type": "code",
   "execution_count": 8,
   "id": "3236448b-0548-47d9-bb64-ff2ef623cb5c",
   "metadata": {},
   "outputs": [],
   "source": [
    "def solve_part1(bigstring):\n",
    "    games = bigstring.split('\\n')\n",
    "    bag_rgb = [12, 13, 14]\n",
    "    sum = 0\n",
    "    for game in games:\n",
    "        id = get_id(game)\n",
    "        maxrgb = max_rgb(get_sets(game))\n",
    "        possible = (maxrgb[0] <= bag_rgb[0]) and (maxrgb[1] <= bag_rgb[1]) and (maxrgb[2] <= bag_rgb[2])\n",
    "        if possible:\n",
    "            sum = sum + int(id)\n",
    "    return sum\n",
    "    "
   ]
  },
  {
   "cell_type": "code",
   "execution_count": 9,
   "id": "8c9d362d-3b68-4a53-aea4-46447bdf1743",
   "metadata": {},
   "outputs": [
    {
     "data": {
      "text/plain": [
       "8"
      ]
     },
     "execution_count": 9,
     "metadata": {},
     "output_type": "execute_result"
    }
   ],
   "source": [
    "solve_part1(sample_input)"
   ]
  },
  {
   "cell_type": "code",
   "execution_count": null,
   "id": "e1204de2-16c8-47ee-a77b-1dfb2e57b98f",
   "metadata": {
    "scrolled": true
   },
   "outputs": [],
   "source": [
    "with open('data/day02_in.txt', 'r') as f:\n",
    "    puzzle_input = f.read()"
   ]
  },
  {
   "cell_type": "raw",
   "id": "e8e9fb96-dd90-4c4f-bb12-f4f8c7f1fca4",
   "metadata": {
    "scrolled": true
   },
   "source": [
    "print(puzzle_input)"
   ]
  },
  {
   "cell_type": "code",
   "execution_count": 11,
   "id": "8c09b4bf-3ae4-4b3a-8652-bae33332d053",
   "metadata": {},
   "outputs": [
    {
     "data": {
      "text/plain": [
       "2406"
      ]
     },
     "execution_count": 11,
     "metadata": {},
     "output_type": "execute_result"
    }
   ],
   "source": [
    "solve_part1(puzzle_input)"
   ]
  },
  {
   "cell_type": "markdown",
   "id": "5b9fcf26-b297-4b82-b227-b7b20c83c03d",
   "metadata": {},
   "source": [
    "## Part 2\n",
    "\n",
    "The elf says they stopped producing snow because they weren't getting any water. We're on our way to the water source, working out the fewest number of cubes of each color that would make each game possible.\n",
    "\n",
    "Looks like maxrgb already contains that information. The puzzle answer requires calculating the power: red * green * blue, and then we sum the power of the sets instead of the set id's."
   ]
  },
  {
   "cell_type": "code",
   "execution_count": 12,
   "id": "b3bd729e-57e6-43b6-b559-2c9868a55fed",
   "metadata": {},
   "outputs": [],
   "source": [
    "def solve_part2(bigstring):\n",
    "    games = bigstring.split('\\n')\n",
    "    sum = 0\n",
    "    for game in games:\n",
    "        maxrgb = max_rgb(get_sets(game))\n",
    "        power = maxrgb[0] * maxrgb[1] * maxrgb[2]\n",
    "        sum = sum + power\n",
    "    return sum"
   ]
  },
  {
   "cell_type": "code",
   "execution_count": 13,
   "id": "48deca23-e8b1-4f21-a3c0-312861827776",
   "metadata": {},
   "outputs": [
    {
     "data": {
      "text/plain": [
       "2286"
      ]
     },
     "execution_count": 13,
     "metadata": {},
     "output_type": "execute_result"
    }
   ],
   "source": [
    "solve_part2(sample_input)"
   ]
  },
  {
   "cell_type": "code",
   "execution_count": 14,
   "id": "497dac72-a393-4e3d-ad41-006ae3bb3381",
   "metadata": {},
   "outputs": [
    {
     "data": {
      "text/plain": [
       "78375"
      ]
     },
     "execution_count": 14,
     "metadata": {},
     "output_type": "execute_result"
    }
   ],
   "source": [
    "solve_part2(puzzle_input)"
   ]
  },
  {
   "cell_type": "code",
   "execution_count": null,
   "id": "ad5de430-9a27-4e98-98df-dc254942b850",
   "metadata": {},
   "outputs": [],
   "source": []
  }
 ],
 "metadata": {
  "kernelspec": {
   "display_name": "Python 3 (ipykernel)",
   "language": "python",
   "name": "python3"
  },
  "language_info": {
   "codemirror_mode": {
    "name": "ipython",
    "version": 3
   },
   "file_extension": ".py",
   "mimetype": "text/x-python",
   "name": "python",
   "nbconvert_exporter": "python",
   "pygments_lexer": "ipython3",
   "version": "3.9.6"
  }
 },
 "nbformat": 4,
 "nbformat_minor": 5
}
