{
 "cells": [
  {
   "cell_type": "markdown",
   "id": "0a251a70-3ffa-4be7-a1c9-325a0f8791c7",
   "metadata": {},
   "source": [
    "# Advent of Code 2023 Day 1: Trebuchet?!\n",
    "\n",
    "https://adventofcode.com/2023/day/1\n",
    "\n",
    "Something is wrong with global snow production, and the elves are launching me into the sky via trebuchet. Its calibration document has been scrambled.\n",
    "\n",
    "## Part 1\n",
    "\n",
    "In each line of text, identify the first and last digit and combine these into a two-digit number. Calculate the sum of these values."
   ]
  },
  {
   "cell_type": "code",
   "execution_count": 1,
   "id": "9da85f95-aacc-48c9-ac74-ba4b7080bb04",
   "metadata": {},
   "outputs": [],
   "source": [
    "sample_input = '''1abc2\n",
    "pqr3stu8vwx\n",
    "a1b2c3d4e5f\n",
    "treb7uchet'''"
   ]
  },
  {
   "cell_type": "markdown",
   "id": "06b77503-4191-4591-8cac-ea1d5a05124e",
   "metadata": {},
   "source": [
    "12 + 38 + 15 + 77 = 142\n",
    "\n",
    "The puzzle input is much longer, we'll need a program to calculate the result for us. Let's work it out with the sample of manageable size. First, we need to be able to deal with one line at a time."
   ]
  },
  {
   "cell_type": "code",
   "execution_count": 2,
   "id": "c3da3c76-24b1-4a18-a789-f6f561d7fb03",
   "metadata": {},
   "outputs": [
    {
     "name": "stdout",
     "output_type": "stream",
     "text": [
      "1abc2\n",
      "pqr3stu8vwx\n",
      "a1b2c3d4e5f\n",
      "treb7uchet\n"
     ]
    }
   ],
   "source": [
    "lines = sample_input.split('\\n')\n",
    "for line in lines:\n",
    "    print(line)"
   ]
  },
  {
   "cell_type": "markdown",
   "id": "6026e74b-d009-4252-b6d7-e5962449bda2",
   "metadata": {},
   "source": [
    "I used the regular expression module to search for all the digits in each line."
   ]
  },
  {
   "cell_type": "code",
   "execution_count": 3,
   "id": "22256b60-d292-44fc-a5dd-c397305cf42a",
   "metadata": {},
   "outputs": [
    {
     "data": {
      "text/plain": [
       "['3', '8']"
      ]
     },
     "execution_count": 3,
     "metadata": {},
     "output_type": "execute_result"
    }
   ],
   "source": [
    "import re\n",
    "\n",
    "digits = re.findall('[0-9]', lines[1])\n",
    "\n",
    "digits"
   ]
  },
  {
   "cell_type": "code",
   "execution_count": 4,
   "id": "2f1faca6-98d5-46e2-a3a5-d4cf8f643b11",
   "metadata": {},
   "outputs": [
    {
     "data": {
      "text/plain": [
       "'8'"
      ]
     },
     "execution_count": 4,
     "metadata": {},
     "output_type": "execute_result"
    }
   ],
   "source": [
    "last_digit = digits[-1]\n",
    "\n",
    "last_digit"
   ]
  },
  {
   "cell_type": "markdown",
   "id": "7321c01c-09a8-4586-b3be-ef7b814d925c",
   "metadata": {},
   "source": [
    "We will concatentate these digits represented as strings and then convert to an integer, and keep a running total as we work our way through all the lines."
   ]
  },
  {
   "cell_type": "code",
   "execution_count": 5,
   "id": "8a503109-08ef-4676-8fe9-0c7b142ed14f",
   "metadata": {},
   "outputs": [],
   "source": [
    "def decode_part1(humongous_string):\n",
    "    lines = humongous_string.split('\\n')\n",
    "    sum = 0\n",
    "    for line in lines:\n",
    "        digits = re.findall('[0-9]', line)\n",
    "        calibration_value = int(digits[0] + digits[-1])\n",
    "        sum = sum + calibration_value\n",
    "    return sum\n",
    "    "
   ]
  },
  {
   "cell_type": "code",
   "execution_count": 6,
   "id": "0529d849-7d2f-452e-8b89-526414f63659",
   "metadata": {},
   "outputs": [
    {
     "data": {
      "text/plain": [
       "142"
      ]
     },
     "execution_count": 6,
     "metadata": {},
     "output_type": "execute_result"
    }
   ],
   "source": [
    "decode_part1(sample_input)"
   ]
  },
  {
   "cell_type": "markdown",
   "id": "593b4b4f-c230-4dc0-8dc7-6d013c4b67ba",
   "metadata": {},
   "source": [
    "OK, we have a working program. Now we get the puzzle input."
   ]
  },
  {
   "cell_type": "code",
   "execution_count": null,
   "id": "37a7c1e0-27f0-49f4-8238-d685a89006a2",
   "metadata": {
    "scrolled": true
   },
   "outputs": [],
   "source": [
    "with open('data/day01_in.txt', 'r') as f:\n",
    "    puzzle_input = f.read()"
   ]
  },
  {
   "cell_type": "markdown",
   "id": "7180d47a-87fc-44a1-8a7a-0c172e5b5ba5",
   "metadata": {
    "scrolled": true
   },
   "source": [
    "print(puzzle_input)"
   ]
  },
  {
   "cell_type": "code",
   "execution_count": 8,
   "id": "f118d2b3-b22e-45e7-97e4-d790bf6fd2cc",
   "metadata": {},
   "outputs": [
    {
     "data": {
      "text/plain": [
       "21936"
      ]
     },
     "execution_count": 8,
     "metadata": {},
     "output_type": "execute_result"
    }
   ],
   "source": [
    "len(puzzle_input)"
   ]
  },
  {
   "cell_type": "markdown",
   "id": "c44548ef-3472-4406-9448-bccf3ea501dd",
   "metadata": {},
   "source": [
    "The puzzle input has 21936 lines. I told you we'd need a program!"
   ]
  },
  {
   "cell_type": "code",
   "execution_count": 9,
   "id": "27c33078-221b-48d4-aa4d-865451cd39bf",
   "metadata": {},
   "outputs": [
    {
     "data": {
      "text/plain": [
       "53651"
      ]
     },
     "execution_count": 9,
     "metadata": {},
     "output_type": "execute_result"
    }
   ],
   "source": [
    "decode_part1(puzzle_input)"
   ]
  },
  {
   "cell_type": "markdown",
   "id": "cd2eed9e-0a1d-4bb8-a028-bbbc774d474b",
   "metadata": {},
   "source": [
    "## Part two\n",
    "\n",
    "Now we also need to identify numbers that are spelled out with letters. "
   ]
  },
  {
   "cell_type": "code",
   "execution_count": 10,
   "id": "c59db080-8696-403b-9fe6-cd57b4ee6030",
   "metadata": {},
   "outputs": [],
   "source": [
    "sample_input = '''two1nine\n",
    "eightwothree\n",
    "abcone2threexyz\n",
    "xtwone3four\n",
    "4nineeightseven2\n",
    "zoneight234\n",
    "7pqrstsixteen'''"
   ]
  },
  {
   "cell_type": "markdown",
   "id": "3b14e29c-93d5-4b08-8cc0-02298347f744",
   "metadata": {},
   "source": [
    "The calibration values are 29, 83, 13, 24, 42, 14, and 76, with a sum of 281.\n",
    "\n",
    "I started by using string replace to overwrite words with numerals. But that didn't work because some words overlap, like eightwo. Next I tried the following:"
   ]
  },
  {
   "cell_type": "code",
   "execution_count": 11,
   "id": "46b88ed1-b9a9-44b3-9e1a-c6edb38c9c09",
   "metadata": {},
   "outputs": [
    {
     "data": {
      "text/plain": [
       "'2'"
      ]
     },
     "execution_count": 11,
     "metadata": {},
     "output_type": "execute_result"
    }
   ],
   "source": [
    "def digit(s):\n",
    "    if s.find('0') >=0 or s.lower().find('zero') >=0:\n",
    "        return '0'\n",
    "    if s.find('1') >=0 or s.lower().find('one') >=0:\n",
    "        return '1'\n",
    "    if s.find('2') >=0 or s.lower().find('two') >=0:\n",
    "        return '2'\n",
    "    if s.find('3') >=0 or s.lower().find('three') >=0:\n",
    "        return '3'\n",
    "    if s.find('4') >=0 or s.lower().find('four') >=0:\n",
    "        return '4'\n",
    "    if s.find('5') >=0 or s.lower().find('five') >=0:\n",
    "        return '5'\n",
    "    if s.find('6') >=0 or s.lower().find('six') >=0:\n",
    "        return '6'\n",
    "    if s.find('7') >=0 or s.lower().find('seven') >=0:\n",
    "        return '7'\n",
    "    if s.find('8') >=0 or s.lower().find('eight') >=0:\n",
    "        return '8'\n",
    "    if s.find('9') >=0 or s.lower().find('nine') >=0:\n",
    "        return '9'\n",
    "    return ''\n",
    "\n",
    "digit('eightwothree')"
   ]
  },
  {
   "cell_type": "markdown",
   "id": "96eecf40-3976-483f-bfe1-688404424505",
   "metadata": {},
   "source": [
    "This approach still does not work with some lines, since it doesn't find numbers in order from left to right or right to left. We can use this function to recognize spelled-out digits, but we need start with the first and last characters of each line and work our way in until we have a digit within the substring."
   ]
  },
  {
   "cell_type": "code",
   "execution_count": 12,
   "id": "6a250e13-fe55-4ea3-8591-99c2e6849779",
   "metadata": {},
   "outputs": [
    {
     "data": {
      "text/plain": [
       "'8'"
      ]
     },
     "execution_count": 12,
     "metadata": {},
     "output_type": "execute_result"
    }
   ],
   "source": [
    "def get_first(s):\n",
    "    first_digit = ''\n",
    "    num_chars = 1\n",
    "    while (first_digit == '') & (num_chars <= len(s)):\n",
    "        substr = s[:num_chars]\n",
    "        first_digit = digit(substr)\n",
    "        num_chars = num_chars + 1\n",
    "    return first_digit\n",
    "\n",
    "get_first('eightwothree')"
   ]
  },
  {
   "cell_type": "code",
   "execution_count": 13,
   "id": "513fb252-851d-4f2e-a23e-9bf333c311d4",
   "metadata": {},
   "outputs": [
    {
     "data": {
      "text/plain": [
       "'3'"
      ]
     },
     "execution_count": 13,
     "metadata": {},
     "output_type": "execute_result"
    }
   ],
   "source": [
    "def get_last(s):\n",
    "    last_digit = ''\n",
    "    num_chars = 1\n",
    "    while (last_digit == '') & (num_chars <= len(s)):\n",
    "        substr = s[-1*num_chars:]\n",
    "        last_digit = digit(substr)\n",
    "        num_chars = num_chars + 1\n",
    "    return last_digit\n",
    "\n",
    "get_last('eightwothree')"
   ]
  },
  {
   "cell_type": "code",
   "execution_count": 14,
   "id": "bce859e6-50d6-498c-8b81-91217247755a",
   "metadata": {},
   "outputs": [],
   "source": [
    "def decode_part2(humongous_string):\n",
    "    lines = humongous_string.split('\\n')\n",
    "    sum = 0\n",
    "    for line in lines:\n",
    "        calibration_value = int(get_first(line) + get_last(line))\n",
    "        sum = sum + calibration_value\n",
    "    \n",
    "    return sum"
   ]
  },
  {
   "cell_type": "code",
   "execution_count": 15,
   "id": "4048b1e5-d7b7-448a-82f3-96c2044c3380",
   "metadata": {},
   "outputs": [
    {
     "data": {
      "text/plain": [
       "281"
      ]
     },
     "execution_count": 15,
     "metadata": {},
     "output_type": "execute_result"
    }
   ],
   "source": [
    "decode_part2(sample_input)"
   ]
  },
  {
   "cell_type": "code",
   "execution_count": 16,
   "id": "ba503676-4d7a-4ef3-9076-b4b3b4cf9a55",
   "metadata": {},
   "outputs": [
    {
     "data": {
      "text/plain": [
       "53894"
      ]
     },
     "execution_count": 16,
     "metadata": {},
     "output_type": "execute_result"
    }
   ],
   "source": [
    "decode_part2(puzzle_input)"
   ]
  },
  {
   "cell_type": "code",
   "execution_count": null,
   "id": "22825001-be06-4df0-9eda-cf41faa8eb14",
   "metadata": {},
   "outputs": [],
   "source": []
  }
 ],
 "metadata": {
  "kernelspec": {
   "display_name": "Python 3 (ipykernel)",
   "language": "python",
   "name": "python3"
  },
  "language_info": {
   "codemirror_mode": {
    "name": "ipython",
    "version": 3
   },
   "file_extension": ".py",
   "mimetype": "text/x-python",
   "name": "python",
   "nbconvert_exporter": "python",
   "pygments_lexer": "ipython3",
   "version": "3.9.6"
  }
 },
 "nbformat": 4,
 "nbformat_minor": 5
}
