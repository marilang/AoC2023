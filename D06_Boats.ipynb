{
 "cells": [
  {
   "cell_type": "markdown",
   "id": "9ab71832-6bd6-4b6e-8f56-b1364344b3e0",
   "metadata": {},
   "source": [
    "# Day 6: Wait for it\n",
    "\n",
    "https://adventofcode.com/2023/day/6\n",
    "\n",
    "Elves are small and quick; their toy boat races go for millimeters and last for milliseconds. I have a tiny boat, I push a button to charge it, release the button and watch it go. For every millisecond I hold the button, the boat goes one millimeter per second faster. I'm given the duration of the race and the distance record, which I need to beat. How many ways can I do it? I need the product of those. \n"
   ]
  },
  {
   "cell_type": "code",
   "execution_count": 1,
   "id": "adcc4d02-45ed-4da8-8ab9-50922d4769a2",
   "metadata": {},
   "outputs": [],
   "source": [
    "sample_input = '''Time:      7  15   30\n",
    "Distance:  9  40  200\n",
    "'''"
   ]
  },
  {
   "cell_type": "code",
   "execution_count": 2,
   "id": "d9b9d58b-5245-4e4a-a235-228992247890",
   "metadata": {},
   "outputs": [],
   "source": [
    "def convert_to_integers(list_of_strings):\n",
    "    list_of_integers = []\n",
    "    for entry in list_of_strings:\n",
    "        list_of_integers.append(int(entry))\n",
    "    return list_of_integers\n",
    "\n",
    "def read_input(the_input):\n",
    "    line = the_input.split('\\n')\n",
    "    times = convert_to_integers(line[0][line[0].find(\":\")+1:].split())\n",
    "    distances = convert_to_integers(line[1][line[1].find(\":\")+1:].split())\n",
    "    return times, distances"
   ]
  },
  {
   "cell_type": "code",
   "execution_count": 3,
   "id": "ce1da1e2-2e6e-409f-831a-67ec00046993",
   "metadata": {},
   "outputs": [
    {
     "name": "stdout",
     "output_type": "stream",
     "text": [
      "[7, 15, 30] [9, 40, 200]\n"
     ]
    }
   ],
   "source": [
    "times, distances = read_input(sample_input)\n",
    "print(times, distances)"
   ]
  },
  {
   "cell_type": "code",
   "execution_count": 4,
   "id": "b8e309b2-a9b8-478d-ab98-859aa79fbd73",
   "metadata": {},
   "outputs": [
    {
     "data": {
      "text/plain": [
       "12"
      ]
     },
     "execution_count": 4,
     "metadata": {},
     "output_type": "execute_result"
    }
   ],
   "source": [
    "def calculate_distance(charge_time, race_duration):\n",
    "    # velocity = charge_time\n",
    "    # travel_time = race_duration - charge_time\n",
    "    # distance_traveled = velocity * travel_time\n",
    "    distance_traveled = charge_time * (race_duration - charge_time)\n",
    "    return distance_traveled\n",
    "\n",
    "calculate_distance(4,7)"
   ]
  },
  {
   "cell_type": "code",
   "execution_count": 5,
   "id": "5970b3f4-7b53-447b-92b4-9db3af885e89",
   "metadata": {},
   "outputs": [
    {
     "name": "stdout",
     "output_type": "stream",
     "text": [
      "Race number: 0 | Race duration: 7, Distance record: 9\n",
      "   2  ==>  10  True  1\n",
      "   3  ==>  12  True  2\n",
      "   4  ==>  12  True  3\n",
      "   5  ==>  10  True  4\n",
      "4 ways\n",
      "Race number: 1 | Race duration: 15, Distance record: 40\n",
      "   4  ==>  44  True  1\n",
      "   5  ==>  50  True  2\n",
      "   6  ==>  54  True  3\n",
      "   7  ==>  56  True  4\n",
      "   8  ==>  56  True  5\n",
      "   9  ==>  54  True  6\n",
      "   10  ==>  50  True  7\n",
      "   11  ==>  44  True  8\n",
      "8 ways\n",
      "Race number: 2 | Race duration: 30, Distance record: 200\n",
      "   11  ==>  209  True  1\n",
      "   12  ==>  216  True  2\n",
      "   13  ==>  221  True  3\n",
      "   14  ==>  224  True  4\n",
      "   15  ==>  225  True  5\n",
      "   16  ==>  224  True  6\n",
      "   17  ==>  221  True  7\n",
      "   18  ==>  216  True  8\n",
      "   19  ==>  209  True  9\n",
      "9 ways\n"
     ]
    },
    {
     "data": {
      "text/plain": [
       "9"
      ]
     },
     "execution_count": 5,
     "metadata": {},
     "output_type": "execute_result"
    }
   ],
   "source": [
    "def solve_puzzle(the_input, verbose=True):\n",
    "    times, distances = read_input(the_input)\n",
    "    for race_number in range(len(times)):\n",
    "        race_duration = times[race_number]\n",
    "        distance_record = distances[race_number]\n",
    "        count_the_ways = 0\n",
    "        print(f'Race number: {race_number} | Race duration: {race_duration}, Distance record: {distance_record}')\n",
    "        for charge_time in range(1, race_duration):\n",
    "            distance_traveled = calculate_distance(charge_time, race_duration)\n",
    "            beat_the_record = (distance_traveled > distance_record)\n",
    "            if beat_the_record:\n",
    "                count_the_ways += 1\n",
    "                if verbose: print(f'   {charge_time}  ==>  {distance_traveled}  {beat_the_record}  {count_the_ways}')\n",
    "        print(f'{count_the_ways} ways')\n",
    "    return count_the_ways\n",
    "\n",
    "solve_puzzle(sample_input)"
   ]
  },
  {
   "cell_type": "code",
   "execution_count": 6,
   "id": "d1e3c94d-53d8-4cd6-8006-6d049bee55f4",
   "metadata": {},
   "outputs": [
    {
     "data": {
      "text/plain": [
       "288"
      ]
     },
     "execution_count": 6,
     "metadata": {},
     "output_type": "execute_result"
    }
   ],
   "source": [
    "4 * 8 * 9"
   ]
  },
  {
   "cell_type": "code",
   "execution_count": 7,
   "id": "418cd445-bb14-47fb-b4f3-8761b11f8afe",
   "metadata": {},
   "outputs": [],
   "source": [
    "puzzle_input = '''Time:        58     99     64     69\n",
    "Distance:   478   2232   1019   1071\n",
    "'''"
   ]
  },
  {
   "cell_type": "code",
   "execution_count": 8,
   "id": "2bd44d6c-3367-48c2-b7bb-35be3b0b7cfc",
   "metadata": {},
   "outputs": [
    {
     "name": "stdout",
     "output_type": "stream",
     "text": [
      "Race number: 0 | Race duration: 58, Distance record: 478\n",
      "39 ways\n",
      "Race number: 1 | Race duration: 99, Distance record: 2232\n",
      "30 ways\n",
      "Race number: 2 | Race duration: 64, Distance record: 1019\n",
      "5 ways\n",
      "Race number: 3 | Race duration: 69, Distance record: 1071\n",
      "22 ways\n"
     ]
    },
    {
     "data": {
      "text/plain": [
       "22"
      ]
     },
     "execution_count": 8,
     "metadata": {},
     "output_type": "execute_result"
    }
   ],
   "source": [
    "solve_puzzle(puzzle_input, verbose=False)"
   ]
  },
  {
   "cell_type": "code",
   "execution_count": 9,
   "id": "757e3a90-5451-4ffd-9ad4-3eba961b24c4",
   "metadata": {},
   "outputs": [
    {
     "data": {
      "text/plain": [
       "128700"
      ]
     },
     "execution_count": 9,
     "metadata": {},
     "output_type": "execute_result"
    }
   ],
   "source": [
    "39*30*5*22"
   ]
  },
  {
   "cell_type": "markdown",
   "id": "5588557c-0c29-41cd-a0c3-45756d5e00c3",
   "metadata": {},
   "source": [
    "128700 is correct!"
   ]
  },
  {
   "cell_type": "markdown",
   "id": "9911b76e-5ac0-4984-9b16-149ed1184d53",
   "metadata": {},
   "source": [
    "# Part 2\n",
    "\n",
    "Actually... each line is all one big number."
   ]
  },
  {
   "cell_type": "code",
   "execution_count": 10,
   "id": "687d8937-b658-4134-8420-dee414c7da55",
   "metadata": {},
   "outputs": [],
   "source": [
    "sample_input = '''Time:      71530\n",
    "Distance:  940200'''"
   ]
  },
  {
   "cell_type": "code",
   "execution_count": 11,
   "id": "d458717c-37b6-4e84-a00f-1ed27067f6cf",
   "metadata": {},
   "outputs": [
    {
     "name": "stdout",
     "output_type": "stream",
     "text": [
      "Race number: 0 | Race duration: 71530, Distance record: 940200\n",
      "71503 ways\n"
     ]
    },
    {
     "data": {
      "text/plain": [
       "71503"
      ]
     },
     "execution_count": 11,
     "metadata": {},
     "output_type": "execute_result"
    }
   ],
   "source": [
    "solve_puzzle(sample_input, verbose=False)"
   ]
  },
  {
   "cell_type": "code",
   "execution_count": 12,
   "id": "0c44ab86-042e-4062-aa59-68160044f9c2",
   "metadata": {},
   "outputs": [],
   "source": [
    "puzzle_input = '''Time:        58996469\n",
    "Distance:   478223210191071\n",
    "'''"
   ]
  },
  {
   "cell_type": "markdown",
   "id": "5806638f-bbf2-4ba2-9ba6-534edc1088ff",
   "metadata": {},
   "source": [
    "That's a big number. We might want to calculate the charge time to meet the record, and the charge time for the maximum distance, and the number of solutions should be twice that difference. Approximately. I could struggle with off-by-one errors or I could just let it run. Let's try just running it."
   ]
  },
  {
   "cell_type": "code",
   "execution_count": 13,
   "id": "63d567c4-5d4e-4bf3-87a4-02f9c9d9e8e9",
   "metadata": {},
   "outputs": [
    {
     "name": "stdout",
     "output_type": "stream",
     "text": [
      "Race number: 0 | Race duration: 58996469, Distance record: 478223210191071\n",
      "39594072 ways\n"
     ]
    },
    {
     "data": {
      "text/plain": [
       "39594072"
      ]
     },
     "execution_count": 13,
     "metadata": {},
     "output_type": "execute_result"
    }
   ],
   "source": [
    "solve_puzzle(puzzle_input, verbose=False)"
   ]
  },
  {
   "cell_type": "markdown",
   "id": "70c22abb-52a8-446e-805f-d4f6b429ed58",
   "metadata": {},
   "source": [
    "39594072 is correct. For a one-time thing, it was faster to wait a minute or so than to rewrite the code. I'm 2 days behind as it is."
   ]
  },
  {
   "cell_type": "code",
   "execution_count": null,
   "id": "ce648fe0-3ea7-4a3b-8e5e-967755cb6def",
   "metadata": {},
   "outputs": [],
   "source": []
  }
 ],
 "metadata": {
  "kernelspec": {
   "display_name": "Python 3 (ipykernel)",
   "language": "python",
   "name": "python3"
  },
  "language_info": {
   "codemirror_mode": {
    "name": "ipython",
    "version": 3
   },
   "file_extension": ".py",
   "mimetype": "text/x-python",
   "name": "python",
   "nbconvert_exporter": "python",
   "pygments_lexer": "ipython3",
   "version": "3.9.6"
  }
 },
 "nbformat": 4,
 "nbformat_minor": 5
}
